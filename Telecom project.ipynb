{
 "cells": [
  {
   "cell_type": "markdown",
   "id": "290007eb",
   "metadata": {},
   "source": [
    "# Определение перспективного тарифа для телеком компании"
   ]
  },
  {
   "cell_type": "markdown",
   "id": "f8709fc5",
   "metadata": {},
   "source": [
    "## 1. Открываем файл с данными и изучаем общую информацию"
   ]
  },
  {
   "cell_type": "code",
   "execution_count": 1,
   "id": "3b03eac3",
   "metadata": {},
   "outputs": [],
   "source": [
    "import pandas as pd"
   ]
  },
  {
   "cell_type": "code",
   "execution_count": 2,
   "id": "fb41d4e3",
   "metadata": {},
   "outputs": [],
   "source": [
    "data_calls = pd.read_csv('/datasets/calls.csv')"
   ]
  },
  {
   "cell_type": "code",
   "execution_count": 3,
   "id": "edd5801c",
   "metadata": {},
   "outputs": [],
   "source": [
    "data_internet = pd.read_csv('/datasets/internet.csv')"
   ]
  },
  {
   "cell_type": "code",
   "execution_count": 4,
   "id": "cf89bdd4",
   "metadata": {},
   "outputs": [],
   "source": [
    "data_messages = pd.read_csv('/datasets/messages.csv')"
   ]
  },
  {
   "cell_type": "code",
   "execution_count": 5,
   "id": "70b7fc4b",
   "metadata": {},
   "outputs": [],
   "source": [
    "data_tariffs = pd.read_csv('/datasets/tariffs.csv')"
   ]
  },
  {
   "cell_type": "code",
   "execution_count": 6,
   "id": "288abd1a",
   "metadata": {},
   "outputs": [],
   "source": [
    "data_users = pd.read_csv('/datasets/users.csv')"
   ]
  },
  {
   "cell_type": "code",
   "execution_count": 7,
   "id": "5f3b5515",
   "metadata": {},
   "outputs": [
    {
     "data": {
      "text/html": [
       "<div>\n",
       "<style scoped>\n",
       "    .dataframe tbody tr th:only-of-type {\n",
       "        vertical-align: middle;\n",
       "    }\n",
       "\n",
       "    .dataframe tbody tr th {\n",
       "        vertical-align: top;\n",
       "    }\n",
       "\n",
       "    .dataframe thead th {\n",
       "        text-align: right;\n",
       "    }\n",
       "</style>\n",
       "<table border=\"1\" class=\"dataframe\">\n",
       "  <thead>\n",
       "    <tr style=\"text-align: right;\">\n",
       "      <th></th>\n",
       "      <th>id</th>\n",
       "      <th>call_date</th>\n",
       "      <th>duration</th>\n",
       "      <th>user_id</th>\n",
       "    </tr>\n",
       "  </thead>\n",
       "  <tbody>\n",
       "    <tr>\n",
       "      <td>0</td>\n",
       "      <td>1000_0</td>\n",
       "      <td>2018-07-25</td>\n",
       "      <td>0.00</td>\n",
       "      <td>1000</td>\n",
       "    </tr>\n",
       "    <tr>\n",
       "      <td>1</td>\n",
       "      <td>1000_1</td>\n",
       "      <td>2018-08-17</td>\n",
       "      <td>0.00</td>\n",
       "      <td>1000</td>\n",
       "    </tr>\n",
       "    <tr>\n",
       "      <td>2</td>\n",
       "      <td>1000_2</td>\n",
       "      <td>2018-06-11</td>\n",
       "      <td>2.85</td>\n",
       "      <td>1000</td>\n",
       "    </tr>\n",
       "    <tr>\n",
       "      <td>3</td>\n",
       "      <td>1000_3</td>\n",
       "      <td>2018-09-21</td>\n",
       "      <td>13.80</td>\n",
       "      <td>1000</td>\n",
       "    </tr>\n",
       "    <tr>\n",
       "      <td>4</td>\n",
       "      <td>1000_4</td>\n",
       "      <td>2018-12-15</td>\n",
       "      <td>5.18</td>\n",
       "      <td>1000</td>\n",
       "    </tr>\n",
       "    <tr>\n",
       "      <td>5</td>\n",
       "      <td>1000_5</td>\n",
       "      <td>2018-11-02</td>\n",
       "      <td>0.00</td>\n",
       "      <td>1000</td>\n",
       "    </tr>\n",
       "    <tr>\n",
       "      <td>6</td>\n",
       "      <td>1000_6</td>\n",
       "      <td>2018-10-18</td>\n",
       "      <td>0.00</td>\n",
       "      <td>1000</td>\n",
       "    </tr>\n",
       "    <tr>\n",
       "      <td>7</td>\n",
       "      <td>1000_7</td>\n",
       "      <td>2018-08-22</td>\n",
       "      <td>18.31</td>\n",
       "      <td>1000</td>\n",
       "    </tr>\n",
       "    <tr>\n",
       "      <td>8</td>\n",
       "      <td>1000_8</td>\n",
       "      <td>2018-09-15</td>\n",
       "      <td>18.44</td>\n",
       "      <td>1000</td>\n",
       "    </tr>\n",
       "    <tr>\n",
       "      <td>9</td>\n",
       "      <td>1000_9</td>\n",
       "      <td>2018-08-15</td>\n",
       "      <td>0.00</td>\n",
       "      <td>1000</td>\n",
       "    </tr>\n",
       "  </tbody>\n",
       "</table>\n",
       "</div>"
      ],
      "text/plain": [
       "       id   call_date  duration  user_id\n",
       "0  1000_0  2018-07-25      0.00     1000\n",
       "1  1000_1  2018-08-17      0.00     1000\n",
       "2  1000_2  2018-06-11      2.85     1000\n",
       "3  1000_3  2018-09-21     13.80     1000\n",
       "4  1000_4  2018-12-15      5.18     1000\n",
       "5  1000_5  2018-11-02      0.00     1000\n",
       "6  1000_6  2018-10-18      0.00     1000\n",
       "7  1000_7  2018-08-22     18.31     1000\n",
       "8  1000_8  2018-09-15     18.44     1000\n",
       "9  1000_9  2018-08-15      0.00     1000"
      ]
     },
     "execution_count": 7,
     "metadata": {},
     "output_type": "execute_result"
    }
   ],
   "source": [
    "data_calls.head(10)"
   ]
  },
  {
   "cell_type": "code",
   "execution_count": 8,
   "id": "f2ecab8b",
   "metadata": {
    "scrolled": true
   },
   "outputs": [
    {
     "data": {
      "text/html": [
       "<div>\n",
       "<style scoped>\n",
       "    .dataframe tbody tr th:only-of-type {\n",
       "        vertical-align: middle;\n",
       "    }\n",
       "\n",
       "    .dataframe tbody tr th {\n",
       "        vertical-align: top;\n",
       "    }\n",
       "\n",
       "    .dataframe thead th {\n",
       "        text-align: right;\n",
       "    }\n",
       "</style>\n",
       "<table border=\"1\" class=\"dataframe\">\n",
       "  <thead>\n",
       "    <tr style=\"text-align: right;\">\n",
       "      <th></th>\n",
       "      <th>Unnamed: 0</th>\n",
       "      <th>id</th>\n",
       "      <th>mb_used</th>\n",
       "      <th>session_date</th>\n",
       "      <th>user_id</th>\n",
       "    </tr>\n",
       "  </thead>\n",
       "  <tbody>\n",
       "    <tr>\n",
       "      <td>0</td>\n",
       "      <td>0</td>\n",
       "      <td>1000_0</td>\n",
       "      <td>112.95</td>\n",
       "      <td>2018-11-25</td>\n",
       "      <td>1000</td>\n",
       "    </tr>\n",
       "    <tr>\n",
       "      <td>1</td>\n",
       "      <td>1</td>\n",
       "      <td>1000_1</td>\n",
       "      <td>1052.81</td>\n",
       "      <td>2018-09-07</td>\n",
       "      <td>1000</td>\n",
       "    </tr>\n",
       "    <tr>\n",
       "      <td>2</td>\n",
       "      <td>2</td>\n",
       "      <td>1000_2</td>\n",
       "      <td>1197.26</td>\n",
       "      <td>2018-06-25</td>\n",
       "      <td>1000</td>\n",
       "    </tr>\n",
       "    <tr>\n",
       "      <td>3</td>\n",
       "      <td>3</td>\n",
       "      <td>1000_3</td>\n",
       "      <td>550.27</td>\n",
       "      <td>2018-08-22</td>\n",
       "      <td>1000</td>\n",
       "    </tr>\n",
       "    <tr>\n",
       "      <td>4</td>\n",
       "      <td>4</td>\n",
       "      <td>1000_4</td>\n",
       "      <td>302.56</td>\n",
       "      <td>2018-09-24</td>\n",
       "      <td>1000</td>\n",
       "    </tr>\n",
       "    <tr>\n",
       "      <td>5</td>\n",
       "      <td>5</td>\n",
       "      <td>1000_5</td>\n",
       "      <td>399.97</td>\n",
       "      <td>2018-10-02</td>\n",
       "      <td>1000</td>\n",
       "    </tr>\n",
       "    <tr>\n",
       "      <td>6</td>\n",
       "      <td>6</td>\n",
       "      <td>1000_6</td>\n",
       "      <td>540.08</td>\n",
       "      <td>2018-09-07</td>\n",
       "      <td>1000</td>\n",
       "    </tr>\n",
       "    <tr>\n",
       "      <td>7</td>\n",
       "      <td>7</td>\n",
       "      <td>1000_7</td>\n",
       "      <td>415.70</td>\n",
       "      <td>2018-07-11</td>\n",
       "      <td>1000</td>\n",
       "    </tr>\n",
       "    <tr>\n",
       "      <td>8</td>\n",
       "      <td>8</td>\n",
       "      <td>1000_8</td>\n",
       "      <td>505.40</td>\n",
       "      <td>2018-10-08</td>\n",
       "      <td>1000</td>\n",
       "    </tr>\n",
       "    <tr>\n",
       "      <td>9</td>\n",
       "      <td>9</td>\n",
       "      <td>1000_9</td>\n",
       "      <td>345.54</td>\n",
       "      <td>2018-09-03</td>\n",
       "      <td>1000</td>\n",
       "    </tr>\n",
       "  </tbody>\n",
       "</table>\n",
       "</div>"
      ],
      "text/plain": [
       "   Unnamed: 0      id  mb_used session_date  user_id\n",
       "0           0  1000_0   112.95   2018-11-25     1000\n",
       "1           1  1000_1  1052.81   2018-09-07     1000\n",
       "2           2  1000_2  1197.26   2018-06-25     1000\n",
       "3           3  1000_3   550.27   2018-08-22     1000\n",
       "4           4  1000_4   302.56   2018-09-24     1000\n",
       "5           5  1000_5   399.97   2018-10-02     1000\n",
       "6           6  1000_6   540.08   2018-09-07     1000\n",
       "7           7  1000_7   415.70   2018-07-11     1000\n",
       "8           8  1000_8   505.40   2018-10-08     1000\n",
       "9           9  1000_9   345.54   2018-09-03     1000"
      ]
     },
     "execution_count": 8,
     "metadata": {},
     "output_type": "execute_result"
    }
   ],
   "source": [
    "data_internet.head(10)"
   ]
  },
  {
   "cell_type": "code",
   "execution_count": 9,
   "id": "602b56e0",
   "metadata": {},
   "outputs": [
    {
     "data": {
      "text/html": [
       "<div>\n",
       "<style scoped>\n",
       "    .dataframe tbody tr th:only-of-type {\n",
       "        vertical-align: middle;\n",
       "    }\n",
       "\n",
       "    .dataframe tbody tr th {\n",
       "        vertical-align: top;\n",
       "    }\n",
       "\n",
       "    .dataframe thead th {\n",
       "        text-align: right;\n",
       "    }\n",
       "</style>\n",
       "<table border=\"1\" class=\"dataframe\">\n",
       "  <thead>\n",
       "    <tr style=\"text-align: right;\">\n",
       "      <th></th>\n",
       "      <th>id</th>\n",
       "      <th>message_date</th>\n",
       "      <th>user_id</th>\n",
       "    </tr>\n",
       "  </thead>\n",
       "  <tbody>\n",
       "    <tr>\n",
       "      <td>0</td>\n",
       "      <td>1000_0</td>\n",
       "      <td>2018-06-27</td>\n",
       "      <td>1000</td>\n",
       "    </tr>\n",
       "    <tr>\n",
       "      <td>1</td>\n",
       "      <td>1000_1</td>\n",
       "      <td>2018-10-08</td>\n",
       "      <td>1000</td>\n",
       "    </tr>\n",
       "    <tr>\n",
       "      <td>2</td>\n",
       "      <td>1000_2</td>\n",
       "      <td>2018-08-04</td>\n",
       "      <td>1000</td>\n",
       "    </tr>\n",
       "    <tr>\n",
       "      <td>3</td>\n",
       "      <td>1000_3</td>\n",
       "      <td>2018-06-16</td>\n",
       "      <td>1000</td>\n",
       "    </tr>\n",
       "    <tr>\n",
       "      <td>4</td>\n",
       "      <td>1000_4</td>\n",
       "      <td>2018-12-05</td>\n",
       "      <td>1000</td>\n",
       "    </tr>\n",
       "    <tr>\n",
       "      <td>5</td>\n",
       "      <td>1000_5</td>\n",
       "      <td>2018-06-20</td>\n",
       "      <td>1000</td>\n",
       "    </tr>\n",
       "    <tr>\n",
       "      <td>6</td>\n",
       "      <td>1000_6</td>\n",
       "      <td>2018-11-19</td>\n",
       "      <td>1000</td>\n",
       "    </tr>\n",
       "    <tr>\n",
       "      <td>7</td>\n",
       "      <td>1000_7</td>\n",
       "      <td>2018-10-29</td>\n",
       "      <td>1000</td>\n",
       "    </tr>\n",
       "    <tr>\n",
       "      <td>8</td>\n",
       "      <td>1000_8</td>\n",
       "      <td>2018-06-25</td>\n",
       "      <td>1000</td>\n",
       "    </tr>\n",
       "    <tr>\n",
       "      <td>9</td>\n",
       "      <td>1000_9</td>\n",
       "      <td>2018-12-18</td>\n",
       "      <td>1000</td>\n",
       "    </tr>\n",
       "  </tbody>\n",
       "</table>\n",
       "</div>"
      ],
      "text/plain": [
       "       id message_date  user_id\n",
       "0  1000_0   2018-06-27     1000\n",
       "1  1000_1   2018-10-08     1000\n",
       "2  1000_2   2018-08-04     1000\n",
       "3  1000_3   2018-06-16     1000\n",
       "4  1000_4   2018-12-05     1000\n",
       "5  1000_5   2018-06-20     1000\n",
       "6  1000_6   2018-11-19     1000\n",
       "7  1000_7   2018-10-29     1000\n",
       "8  1000_8   2018-06-25     1000\n",
       "9  1000_9   2018-12-18     1000"
      ]
     },
     "execution_count": 9,
     "metadata": {},
     "output_type": "execute_result"
    }
   ],
   "source": [
    "data_messages.head(10)"
   ]
  },
  {
   "cell_type": "code",
   "execution_count": 10,
   "id": "d2787243",
   "metadata": {},
   "outputs": [
    {
     "data": {
      "text/html": [
       "<div>\n",
       "<style scoped>\n",
       "    .dataframe tbody tr th:only-of-type {\n",
       "        vertical-align: middle;\n",
       "    }\n",
       "\n",
       "    .dataframe tbody tr th {\n",
       "        vertical-align: top;\n",
       "    }\n",
       "\n",
       "    .dataframe thead th {\n",
       "        text-align: right;\n",
       "    }\n",
       "</style>\n",
       "<table border=\"1\" class=\"dataframe\">\n",
       "  <thead>\n",
       "    <tr style=\"text-align: right;\">\n",
       "      <th></th>\n",
       "      <th>messages_included</th>\n",
       "      <th>mb_per_month_included</th>\n",
       "      <th>minutes_included</th>\n",
       "      <th>rub_monthly_fee</th>\n",
       "      <th>rub_per_gb</th>\n",
       "      <th>rub_per_message</th>\n",
       "      <th>rub_per_minute</th>\n",
       "      <th>tariff_name</th>\n",
       "    </tr>\n",
       "  </thead>\n",
       "  <tbody>\n",
       "    <tr>\n",
       "      <td>0</td>\n",
       "      <td>50</td>\n",
       "      <td>15360</td>\n",
       "      <td>500</td>\n",
       "      <td>550</td>\n",
       "      <td>200</td>\n",
       "      <td>3</td>\n",
       "      <td>3</td>\n",
       "      <td>smart</td>\n",
       "    </tr>\n",
       "    <tr>\n",
       "      <td>1</td>\n",
       "      <td>1000</td>\n",
       "      <td>30720</td>\n",
       "      <td>3000</td>\n",
       "      <td>1950</td>\n",
       "      <td>150</td>\n",
       "      <td>1</td>\n",
       "      <td>1</td>\n",
       "      <td>ultra</td>\n",
       "    </tr>\n",
       "  </tbody>\n",
       "</table>\n",
       "</div>"
      ],
      "text/plain": [
       "   messages_included  mb_per_month_included  minutes_included  \\\n",
       "0                 50                  15360               500   \n",
       "1               1000                  30720              3000   \n",
       "\n",
       "   rub_monthly_fee  rub_per_gb  rub_per_message  rub_per_minute tariff_name  \n",
       "0              550         200                3               3       smart  \n",
       "1             1950         150                1               1       ultra  "
      ]
     },
     "execution_count": 10,
     "metadata": {},
     "output_type": "execute_result"
    }
   ],
   "source": [
    "data_tariffs.head(10)"
   ]
  },
  {
   "cell_type": "code",
   "execution_count": 11,
   "id": "da981e7b",
   "metadata": {},
   "outputs": [
    {
     "data": {
      "text/html": [
       "<div>\n",
       "<style scoped>\n",
       "    .dataframe tbody tr th:only-of-type {\n",
       "        vertical-align: middle;\n",
       "    }\n",
       "\n",
       "    .dataframe tbody tr th {\n",
       "        vertical-align: top;\n",
       "    }\n",
       "\n",
       "    .dataframe thead th {\n",
       "        text-align: right;\n",
       "    }\n",
       "</style>\n",
       "<table border=\"1\" class=\"dataframe\">\n",
       "  <thead>\n",
       "    <tr style=\"text-align: right;\">\n",
       "      <th></th>\n",
       "      <th>user_id</th>\n",
       "      <th>age</th>\n",
       "      <th>churn_date</th>\n",
       "      <th>city</th>\n",
       "      <th>first_name</th>\n",
       "      <th>last_name</th>\n",
       "      <th>reg_date</th>\n",
       "      <th>tariff</th>\n",
       "    </tr>\n",
       "  </thead>\n",
       "  <tbody>\n",
       "    <tr>\n",
       "      <td>0</td>\n",
       "      <td>1000</td>\n",
       "      <td>52</td>\n",
       "      <td>NaN</td>\n",
       "      <td>Краснодар</td>\n",
       "      <td>Рафаил</td>\n",
       "      <td>Верещагин</td>\n",
       "      <td>2018-05-25</td>\n",
       "      <td>ultra</td>\n",
       "    </tr>\n",
       "    <tr>\n",
       "      <td>1</td>\n",
       "      <td>1001</td>\n",
       "      <td>41</td>\n",
       "      <td>NaN</td>\n",
       "      <td>Москва</td>\n",
       "      <td>Иван</td>\n",
       "      <td>Ежов</td>\n",
       "      <td>2018-11-01</td>\n",
       "      <td>smart</td>\n",
       "    </tr>\n",
       "    <tr>\n",
       "      <td>2</td>\n",
       "      <td>1002</td>\n",
       "      <td>59</td>\n",
       "      <td>NaN</td>\n",
       "      <td>Стерлитамак</td>\n",
       "      <td>Евгений</td>\n",
       "      <td>Абрамович</td>\n",
       "      <td>2018-06-17</td>\n",
       "      <td>smart</td>\n",
       "    </tr>\n",
       "    <tr>\n",
       "      <td>3</td>\n",
       "      <td>1003</td>\n",
       "      <td>23</td>\n",
       "      <td>NaN</td>\n",
       "      <td>Москва</td>\n",
       "      <td>Белла</td>\n",
       "      <td>Белякова</td>\n",
       "      <td>2018-08-17</td>\n",
       "      <td>ultra</td>\n",
       "    </tr>\n",
       "    <tr>\n",
       "      <td>4</td>\n",
       "      <td>1004</td>\n",
       "      <td>68</td>\n",
       "      <td>NaN</td>\n",
       "      <td>Новокузнецк</td>\n",
       "      <td>Татьяна</td>\n",
       "      <td>Авдеенко</td>\n",
       "      <td>2018-05-14</td>\n",
       "      <td>ultra</td>\n",
       "    </tr>\n",
       "    <tr>\n",
       "      <td>5</td>\n",
       "      <td>1005</td>\n",
       "      <td>67</td>\n",
       "      <td>NaN</td>\n",
       "      <td>Набережные Челны</td>\n",
       "      <td>Афанасий</td>\n",
       "      <td>Горлов</td>\n",
       "      <td>2018-01-25</td>\n",
       "      <td>smart</td>\n",
       "    </tr>\n",
       "    <tr>\n",
       "      <td>6</td>\n",
       "      <td>1006</td>\n",
       "      <td>21</td>\n",
       "      <td>NaN</td>\n",
       "      <td>Ульяновск</td>\n",
       "      <td>Леонид</td>\n",
       "      <td>Ермолаев</td>\n",
       "      <td>2018-02-26</td>\n",
       "      <td>smart</td>\n",
       "    </tr>\n",
       "    <tr>\n",
       "      <td>7</td>\n",
       "      <td>1007</td>\n",
       "      <td>65</td>\n",
       "      <td>NaN</td>\n",
       "      <td>Москва</td>\n",
       "      <td>Юна</td>\n",
       "      <td>Березина</td>\n",
       "      <td>2018-04-19</td>\n",
       "      <td>smart</td>\n",
       "    </tr>\n",
       "    <tr>\n",
       "      <td>8</td>\n",
       "      <td>1008</td>\n",
       "      <td>63</td>\n",
       "      <td>NaN</td>\n",
       "      <td>Челябинск</td>\n",
       "      <td>Рустэм</td>\n",
       "      <td>Пономарёв</td>\n",
       "      <td>2018-12-19</td>\n",
       "      <td>smart</td>\n",
       "    </tr>\n",
       "    <tr>\n",
       "      <td>9</td>\n",
       "      <td>1009</td>\n",
       "      <td>24</td>\n",
       "      <td>NaN</td>\n",
       "      <td>Пермь</td>\n",
       "      <td>Василиса</td>\n",
       "      <td>Блинова</td>\n",
       "      <td>2018-03-22</td>\n",
       "      <td>smart</td>\n",
       "    </tr>\n",
       "  </tbody>\n",
       "</table>\n",
       "</div>"
      ],
      "text/plain": [
       "   user_id  age churn_date              city first_name  last_name  \\\n",
       "0     1000   52        NaN         Краснодар     Рафаил  Верещагин   \n",
       "1     1001   41        NaN            Москва       Иван       Ежов   \n",
       "2     1002   59        NaN       Стерлитамак    Евгений  Абрамович   \n",
       "3     1003   23        NaN            Москва      Белла   Белякова   \n",
       "4     1004   68        NaN       Новокузнецк    Татьяна   Авдеенко   \n",
       "5     1005   67        NaN  Набережные Челны   Афанасий     Горлов   \n",
       "6     1006   21        NaN         Ульяновск     Леонид   Ермолаев   \n",
       "7     1007   65        NaN            Москва        Юна   Березина   \n",
       "8     1008   63        NaN         Челябинск     Рустэм  Пономарёв   \n",
       "9     1009   24        NaN             Пермь   Василиса    Блинова   \n",
       "\n",
       "     reg_date tariff  \n",
       "0  2018-05-25  ultra  \n",
       "1  2018-11-01  smart  \n",
       "2  2018-06-17  smart  \n",
       "3  2018-08-17  ultra  \n",
       "4  2018-05-14  ultra  \n",
       "5  2018-01-25  smart  \n",
       "6  2018-02-26  smart  \n",
       "7  2018-04-19  smart  \n",
       "8  2018-12-19  smart  \n",
       "9  2018-03-22  smart  "
      ]
     },
     "execution_count": 11,
     "metadata": {},
     "output_type": "execute_result"
    }
   ],
   "source": [
    "data_users.head(10)"
   ]
  },
  {
   "cell_type": "code",
   "execution_count": 12,
   "id": "7e0e3970",
   "metadata": {},
   "outputs": [
    {
     "name": "stdout",
     "output_type": "stream",
     "text": [
      "<class 'pandas.core.frame.DataFrame'>\n",
      "RangeIndex: 202607 entries, 0 to 202606\n",
      "Data columns (total 4 columns):\n",
      "id           202607 non-null object\n",
      "call_date    202607 non-null object\n",
      "duration     202607 non-null float64\n",
      "user_id      202607 non-null int64\n",
      "dtypes: float64(1), int64(1), object(2)\n",
      "memory usage: 6.2+ MB\n"
     ]
    }
   ],
   "source": [
    "data_calls.info()"
   ]
  },
  {
   "cell_type": "code",
   "execution_count": 13,
   "id": "0bb4fc11",
   "metadata": {},
   "outputs": [
    {
     "name": "stdout",
     "output_type": "stream",
     "text": [
      "<class 'pandas.core.frame.DataFrame'>\n",
      "RangeIndex: 149396 entries, 0 to 149395\n",
      "Data columns (total 5 columns):\n",
      "Unnamed: 0      149396 non-null int64\n",
      "id              149396 non-null object\n",
      "mb_used         149396 non-null float64\n",
      "session_date    149396 non-null object\n",
      "user_id         149396 non-null int64\n",
      "dtypes: float64(1), int64(2), object(2)\n",
      "memory usage: 5.7+ MB\n"
     ]
    }
   ],
   "source": [
    "data_internet.info()"
   ]
  },
  {
   "cell_type": "code",
   "execution_count": 14,
   "id": "efa13044",
   "metadata": {},
   "outputs": [
    {
     "name": "stdout",
     "output_type": "stream",
     "text": [
      "<class 'pandas.core.frame.DataFrame'>\n",
      "RangeIndex: 123036 entries, 0 to 123035\n",
      "Data columns (total 3 columns):\n",
      "id              123036 non-null object\n",
      "message_date    123036 non-null object\n",
      "user_id         123036 non-null int64\n",
      "dtypes: int64(1), object(2)\n",
      "memory usage: 2.8+ MB\n"
     ]
    }
   ],
   "source": [
    "data_messages.info()"
   ]
  },
  {
   "cell_type": "code",
   "execution_count": 15,
   "id": "221be3b2",
   "metadata": {},
   "outputs": [
    {
     "name": "stdout",
     "output_type": "stream",
     "text": [
      "<class 'pandas.core.frame.DataFrame'>\n",
      "RangeIndex: 2 entries, 0 to 1\n",
      "Data columns (total 8 columns):\n",
      "messages_included        2 non-null int64\n",
      "mb_per_month_included    2 non-null int64\n",
      "minutes_included         2 non-null int64\n",
      "rub_monthly_fee          2 non-null int64\n",
      "rub_per_gb               2 non-null int64\n",
      "rub_per_message          2 non-null int64\n",
      "rub_per_minute           2 non-null int64\n",
      "tariff_name              2 non-null object\n",
      "dtypes: int64(7), object(1)\n",
      "memory usage: 256.0+ bytes\n"
     ]
    }
   ],
   "source": [
    "data_tariffs.info()"
   ]
  },
  {
   "cell_type": "code",
   "execution_count": 16,
   "id": "4146ae1a",
   "metadata": {},
   "outputs": [
    {
     "name": "stdout",
     "output_type": "stream",
     "text": [
      "<class 'pandas.core.frame.DataFrame'>\n",
      "RangeIndex: 500 entries, 0 to 499\n",
      "Data columns (total 8 columns):\n",
      "user_id       500 non-null int64\n",
      "age           500 non-null int64\n",
      "churn_date    38 non-null object\n",
      "city          500 non-null object\n",
      "first_name    500 non-null object\n",
      "last_name     500 non-null object\n",
      "reg_date      500 non-null object\n",
      "tariff        500 non-null object\n",
      "dtypes: int64(2), object(6)\n",
      "memory usage: 31.4+ KB\n"
     ]
    }
   ],
   "source": [
    "data_users.info()"
   ]
  },
  {
   "cell_type": "markdown",
   "id": "1f023264",
   "metadata": {},
   "source": [
    "#### Вывод"
   ]
  },
  {
   "cell_type": "markdown",
   "id": "ed4f16d2",
   "metadata": {},
   "source": [
    "Обьединять табилцы пока смысла не вижу, около 30% данных не существенны для проекта! Надо обратить на это внимание при работе с пропусками и ошибками. \n",
    "\n",
    "В массиве data_calls столбец call_date имеет не верный формат.\n",
    "\n",
    "В массиве data_internet столбец session_date имеет не верный формат.\n",
    "\n",
    "В массиве data_messages столбец message_date имеет не верный формат.\n",
    "\n",
    "В массиве data_users столбец churn_date, reg_date имеет не верный формат.\n",
    "\n",
    "Есть некоторые сомнения, относительно того, что ID и USER_ID имеюн не соответствующие друг другу форматы, с другой стороны данные столбцы не придется сравнивать между собой, а \"правильного\" формата тут нет"
   ]
  },
  {
   "cell_type": "markdown",
   "id": "bf8aa572",
   "metadata": {},
   "source": [
    "## 2. Подготовим данные"
   ]
  },
  {
   "cell_type": "markdown",
   "id": "443d156f",
   "metadata": {},
   "source": [
    "### 2.1 Приведем данные к нужным типам"
   ]
  },
  {
   "cell_type": "code",
   "execution_count": 17,
   "id": "59dc55a1",
   "metadata": {},
   "outputs": [],
   "source": [
    "import datetime\n",
    "data_calls['call_date'] = pd.to_datetime(data_calls['call_date'], format='%Y-%m-%d')"
   ]
  },
  {
   "cell_type": "code",
   "execution_count": 18,
   "id": "25d640a3",
   "metadata": {},
   "outputs": [],
   "source": [
    "data_internet['session_date'] = pd.to_datetime(data_internet['session_date'], format='%Y-%m-%d')"
   ]
  },
  {
   "cell_type": "code",
   "execution_count": 19,
   "id": "5dd11811",
   "metadata": {},
   "outputs": [],
   "source": [
    "data_messages['message_date'] = pd.to_datetime(data_messages['message_date'], format='%Y-%m-%d')"
   ]
  },
  {
   "cell_type": "code",
   "execution_count": 20,
   "id": "47a3a6d0",
   "metadata": {},
   "outputs": [],
   "source": [
    "data_users['churn_date'] = pd.to_datetime(data_users['churn_date'], format='%Y-%m-%d')\n",
    "\n",
    "data_users['reg_date'] = pd.to_datetime(data_users['reg_date'], format='%Y-%m-%d')\n"
   ]
  },
  {
   "cell_type": "markdown",
   "id": "764a2d75",
   "metadata": {},
   "source": [
    "### 2.2 Найдем и исправим ошибки в данных"
   ]
  },
  {
   "cell_type": "code",
   "execution_count": 21,
   "id": "b8087ac4",
   "metadata": {},
   "outputs": [
    {
     "data": {
      "text/plain": [
       "0"
      ]
     },
     "execution_count": 21,
     "metadata": {},
     "output_type": "execute_result"
    }
   ],
   "source": [
    "data_calls.duplicated().sum()"
   ]
  },
  {
   "cell_type": "code",
   "execution_count": 22,
   "id": "6794a85e",
   "metadata": {},
   "outputs": [
    {
     "data": {
      "text/plain": [
       "id           0\n",
       "call_date    0\n",
       "duration     0\n",
       "user_id      0\n",
       "dtype: int64"
      ]
     },
     "execution_count": 22,
     "metadata": {},
     "output_type": "execute_result"
    }
   ],
   "source": [
    "data_calls.isna().sum()"
   ]
  },
  {
   "cell_type": "code",
   "execution_count": 23,
   "id": "158e027d",
   "metadata": {},
   "outputs": [
    {
     "data": {
      "text/plain": [
       "id           39613\n",
       "call_date    39613\n",
       "duration     39613\n",
       "user_id      39613\n",
       "dtype: int64"
      ]
     },
     "execution_count": 23,
     "metadata": {},
     "output_type": "execute_result"
    }
   ],
   "source": [
    "data_calls.query('duration == 0.00').count()"
   ]
  },
  {
   "cell_type": "markdown",
   "id": "21d5851c",
   "metadata": {},
   "source": [
    "Нулевые значения занимают более 19% от массива данных, их нельзя удалять! Оставляем как есть, но имеем в виду что нулевые значения - это пропущенный звонок."
   ]
  },
  {
   "cell_type": "code",
   "execution_count": 24,
   "id": "29af9d00",
   "metadata": {},
   "outputs": [
    {
     "data": {
      "text/plain": [
       "0"
      ]
     },
     "execution_count": 24,
     "metadata": {},
     "output_type": "execute_result"
    }
   ],
   "source": [
    "data_internet.duplicated().sum()"
   ]
  },
  {
   "cell_type": "code",
   "execution_count": 25,
   "id": "a9af0012",
   "metadata": {},
   "outputs": [
    {
     "data": {
      "text/plain": [
       "Unnamed: 0      0\n",
       "id              0\n",
       "mb_used         0\n",
       "session_date    0\n",
       "user_id         0\n",
       "dtype: int64"
      ]
     },
     "execution_count": 25,
     "metadata": {},
     "output_type": "execute_result"
    }
   ],
   "source": [
    "data_internet.isna().sum()"
   ]
  },
  {
   "cell_type": "code",
   "execution_count": 26,
   "id": "c90e3a17",
   "metadata": {},
   "outputs": [
    {
     "data": {
      "text/plain": [
       "0.00      19598\n",
       "197.56        9\n",
       "447.30        9\n",
       "335.91        9\n",
       "108.95        8\n",
       "          ...  \n",
       "72.49         1\n",
       "846.22        1\n",
       "429.17        1\n",
       "899.03        1\n",
       "483.87        1\n",
       "Name: mb_used, Length: 70003, dtype: int64"
      ]
     },
     "execution_count": 26,
     "metadata": {},
     "output_type": "execute_result"
    }
   ],
   "source": [
    "data_internet['mb_used'].value_counts()"
   ]
  },
  {
   "cell_type": "markdown",
   "id": "2f65c6af",
   "metadata": {},
   "source": [
    "Нули в количестве трафика - это отсутствие передачи трафика у абонента в данный день! Например абонент може быть за границей, или просто в режиме digital detox"
   ]
  },
  {
   "cell_type": "code",
   "execution_count": 27,
   "id": "02166097",
   "metadata": {},
   "outputs": [
    {
     "data": {
      "text/plain": [
       "0"
      ]
     },
     "execution_count": 27,
     "metadata": {},
     "output_type": "execute_result"
    }
   ],
   "source": [
    "data_messages.duplicated().sum()"
   ]
  },
  {
   "cell_type": "code",
   "execution_count": 28,
   "id": "4904320c",
   "metadata": {},
   "outputs": [
    {
     "data": {
      "text/plain": [
       "id              0\n",
       "message_date    0\n",
       "user_id         0\n",
       "dtype: int64"
      ]
     },
     "execution_count": 28,
     "metadata": {},
     "output_type": "execute_result"
    }
   ],
   "source": [
    "data_messages.isna().sum()"
   ]
  },
  {
   "cell_type": "code",
   "execution_count": 29,
   "id": "f73737ae",
   "metadata": {},
   "outputs": [
    {
     "data": {
      "text/plain": [
       "0"
      ]
     },
     "execution_count": 29,
     "metadata": {},
     "output_type": "execute_result"
    }
   ],
   "source": [
    "data_users.duplicated().sum()\n"
   ]
  },
  {
   "cell_type": "code",
   "execution_count": 30,
   "id": "0a613dd7",
   "metadata": {},
   "outputs": [
    {
     "data": {
      "text/plain": [
       "user_id         0\n",
       "age             0\n",
       "churn_date    462\n",
       "city            0\n",
       "first_name      0\n",
       "last_name       0\n",
       "reg_date        0\n",
       "tariff          0\n",
       "dtype: int64"
      ]
     },
     "execution_count": 30,
     "metadata": {},
     "output_type": "execute_result"
    }
   ],
   "source": [
    "data_users.isna().sum()"
   ]
  },
  {
   "cell_type": "markdown",
   "id": "9cf18d35",
   "metadata": {},
   "source": [
    "Фактически во всем фреме отсутствуют данные о прекращении пользования тарифом. Это не ошибка, большая часть пользователей до сих пор им пользуются. Пропуски не оказывают никакого влияния на работу с массивом, оставляем как есть."
   ]
  },
  {
   "cell_type": "markdown",
   "id": "baaf7b9a",
   "metadata": {},
   "source": [
    "#### Вывод"
   ]
  },
  {
   "cell_type": "markdown",
   "id": "42a843d6",
   "metadata": {},
   "source": [
    "В массивах практически отсутствуют ошибки и пропуски. Опсения вызывают только нули в кол-ве трафика."
   ]
  },
  {
   "cell_type": "markdown",
   "id": "72e0ab32",
   "metadata": {},
   "source": [
    "### 2.3 Найдем количество сделанных звонков и израсходованных минут разговора по месяцам"
   ]
  },
  {
   "cell_type": "code",
   "execution_count": 31,
   "id": "2ee2eb11",
   "metadata": {},
   "outputs": [],
   "source": [
    "data_calls['month'] = pd.DatetimeIndex(data_calls['call_date']).month"
   ]
  },
  {
   "cell_type": "code",
   "execution_count": 32,
   "id": "179d4b74",
   "metadata": {},
   "outputs": [
    {
     "data": {
      "text/plain": [
       "1      1476\n",
       "2      3328\n",
       "3      6687\n",
       "4      9272\n",
       "5     12647\n",
       "6     14716\n",
       "7     18298\n",
       "8     21488\n",
       "9     24061\n",
       "10    27146\n",
       "11    29501\n",
       "12    33987\n",
       "Name: month, dtype: int64"
      ]
     },
     "execution_count": 32,
     "metadata": {},
     "output_type": "execute_result"
    }
   ],
   "source": [
    "data_calls['month'].value_counts().sort_values()"
   ]
  },
  {
   "cell_type": "code",
   "execution_count": 33,
   "id": "a5f53ca5",
   "metadata": {},
   "outputs": [
    {
     "data": {
      "text/html": [
       "<div>\n",
       "<style scoped>\n",
       "    .dataframe tbody tr th:only-of-type {\n",
       "        vertical-align: middle;\n",
       "    }\n",
       "\n",
       "    .dataframe tbody tr th {\n",
       "        vertical-align: top;\n",
       "    }\n",
       "\n",
       "    .dataframe thead th {\n",
       "        text-align: right;\n",
       "    }\n",
       "</style>\n",
       "<table border=\"1\" class=\"dataframe\">\n",
       "  <thead>\n",
       "    <tr style=\"text-align: right;\">\n",
       "      <th></th>\n",
       "      <th>duration</th>\n",
       "    </tr>\n",
       "    <tr>\n",
       "      <th>month</th>\n",
       "      <th></th>\n",
       "    </tr>\n",
       "  </thead>\n",
       "  <tbody>\n",
       "    <tr>\n",
       "      <td>1</td>\n",
       "      <td>10206.44</td>\n",
       "    </tr>\n",
       "    <tr>\n",
       "      <td>2</td>\n",
       "      <td>23145.58</td>\n",
       "    </tr>\n",
       "    <tr>\n",
       "      <td>3</td>\n",
       "      <td>45433.85</td>\n",
       "    </tr>\n",
       "    <tr>\n",
       "      <td>4</td>\n",
       "      <td>62530.92</td>\n",
       "    </tr>\n",
       "    <tr>\n",
       "      <td>5</td>\n",
       "      <td>83770.77</td>\n",
       "    </tr>\n",
       "    <tr>\n",
       "      <td>6</td>\n",
       "      <td>99249.71</td>\n",
       "    </tr>\n",
       "    <tr>\n",
       "      <td>7</td>\n",
       "      <td>124373.23</td>\n",
       "    </tr>\n",
       "    <tr>\n",
       "      <td>8</td>\n",
       "      <td>145071.63</td>\n",
       "    </tr>\n",
       "    <tr>\n",
       "      <td>9</td>\n",
       "      <td>163723.16</td>\n",
       "    </tr>\n",
       "    <tr>\n",
       "      <td>10</td>\n",
       "      <td>183068.38</td>\n",
       "    </tr>\n",
       "    <tr>\n",
       "      <td>11</td>\n",
       "      <td>198206.23</td>\n",
       "    </tr>\n",
       "    <tr>\n",
       "      <td>12</td>\n",
       "      <td>230010.14</td>\n",
       "    </tr>\n",
       "  </tbody>\n",
       "</table>\n",
       "</div>"
      ],
      "text/plain": [
       "        duration\n",
       "month           \n",
       "1       10206.44\n",
       "2       23145.58\n",
       "3       45433.85\n",
       "4       62530.92\n",
       "5       83770.77\n",
       "6       99249.71\n",
       "7      124373.23\n",
       "8      145071.63\n",
       "9      163723.16\n",
       "10     183068.38\n",
       "11     198206.23\n",
       "12     230010.14"
      ]
     },
     "execution_count": 33,
     "metadata": {},
     "output_type": "execute_result"
    }
   ],
   "source": [
    "data_calls.pivot_table(index='month', values='duration', aggfunc='sum').sort_values(by='duration')"
   ]
  },
  {
   "cell_type": "markdown",
   "id": "3cde50f9",
   "metadata": {},
   "source": [
    "### 2.4 Найдем количество отправленных сообщений по месяцам"
   ]
  },
  {
   "cell_type": "code",
   "execution_count": 34,
   "id": "a1b543a7",
   "metadata": {},
   "outputs": [],
   "source": [
    "data_messages['month'] = pd.DatetimeIndex(data_messages['message_date']).month"
   ]
  },
  {
   "cell_type": "code",
   "execution_count": 35,
   "id": "0676ef71",
   "metadata": {},
   "outputs": [
    {
     "data": {
      "text/plain": [
       "1       924\n",
       "2      1924\n",
       "3      3648\n",
       "4      5179\n",
       "5      7298\n",
       "6      8983\n",
       "7     11320\n",
       "8     13088\n",
       "9     14759\n",
       "10    17114\n",
       "11    18244\n",
       "12    20555\n",
       "Name: month, dtype: int64"
      ]
     },
     "execution_count": 35,
     "metadata": {},
     "output_type": "execute_result"
    }
   ],
   "source": [
    "data_messages['month'].value_counts().sort_values()"
   ]
  },
  {
   "cell_type": "markdown",
   "id": "f4804bd2",
   "metadata": {},
   "source": [
    "### 2.5 Найдем объем израсходованного интернет-трафика по месяцам"
   ]
  },
  {
   "cell_type": "code",
   "execution_count": 36,
   "id": "b09c0b6a",
   "metadata": {},
   "outputs": [],
   "source": [
    "data_internet['month'] = pd.DatetimeIndex(data_internet['session_date']).month"
   ]
  },
  {
   "cell_type": "code",
   "execution_count": 37,
   "id": "bafe6a32",
   "metadata": {},
   "outputs": [
    {
     "data": {
      "text/html": [
       "<div>\n",
       "<style scoped>\n",
       "    .dataframe tbody tr th:only-of-type {\n",
       "        vertical-align: middle;\n",
       "    }\n",
       "\n",
       "    .dataframe tbody tr th {\n",
       "        vertical-align: top;\n",
       "    }\n",
       "\n",
       "    .dataframe thead th {\n",
       "        text-align: right;\n",
       "    }\n",
       "</style>\n",
       "<table border=\"1\" class=\"dataframe\">\n",
       "  <thead>\n",
       "    <tr style=\"text-align: right;\">\n",
       "      <th></th>\n",
       "      <th>mb_used</th>\n",
       "    </tr>\n",
       "    <tr>\n",
       "      <th>month</th>\n",
       "      <th></th>\n",
       "    </tr>\n",
       "  </thead>\n",
       "  <tbody>\n",
       "    <tr>\n",
       "      <td>1</td>\n",
       "      <td>407732.53</td>\n",
       "    </tr>\n",
       "    <tr>\n",
       "      <td>2</td>\n",
       "      <td>955251.65</td>\n",
       "    </tr>\n",
       "    <tr>\n",
       "      <td>3</td>\n",
       "      <td>1811835.61</td>\n",
       "    </tr>\n",
       "    <tr>\n",
       "      <td>4</td>\n",
       "      <td>2433311.62</td>\n",
       "    </tr>\n",
       "    <tr>\n",
       "      <td>5</td>\n",
       "      <td>3525862.24</td>\n",
       "    </tr>\n",
       "    <tr>\n",
       "      <td>6</td>\n",
       "      <td>4180017.17</td>\n",
       "    </tr>\n",
       "    <tr>\n",
       "      <td>7</td>\n",
       "      <td>5029478.75</td>\n",
       "    </tr>\n",
       "    <tr>\n",
       "      <td>8</td>\n",
       "      <td>5998157.07</td>\n",
       "    </tr>\n",
       "    <tr>\n",
       "      <td>9</td>\n",
       "      <td>6447422.36</td>\n",
       "    </tr>\n",
       "    <tr>\n",
       "      <td>10</td>\n",
       "      <td>7392170.62</td>\n",
       "    </tr>\n",
       "    <tr>\n",
       "      <td>11</td>\n",
       "      <td>7990473.01</td>\n",
       "    </tr>\n",
       "    <tr>\n",
       "      <td>12</td>\n",
       "      <td>9133555.10</td>\n",
       "    </tr>\n",
       "  </tbody>\n",
       "</table>\n",
       "</div>"
      ],
      "text/plain": [
       "          mb_used\n",
       "month            \n",
       "1       407732.53\n",
       "2       955251.65\n",
       "3      1811835.61\n",
       "4      2433311.62\n",
       "5      3525862.24\n",
       "6      4180017.17\n",
       "7      5029478.75\n",
       "8      5998157.07\n",
       "9      6447422.36\n",
       "10     7392170.62\n",
       "11     7990473.01\n",
       "12     9133555.10"
      ]
     },
     "execution_count": 37,
     "metadata": {},
     "output_type": "execute_result"
    }
   ],
   "source": [
    "data_internet.pivot_table(index='month', values='mb_used', aggfunc='sum').sort_values(by='mb_used')\n",
    "\n"
   ]
  },
  {
   "cell_type": "markdown",
   "id": "8e9640a8",
   "metadata": {},
   "source": [
    "### 2.6 Найдем помесячную выручку с каждого пользователя"
   ]
  },
  {
   "cell_type": "code",
   "execution_count": 38,
   "id": "5b68222a",
   "metadata": {},
   "outputs": [
    {
     "data": {
      "text/html": [
       "<div>\n",
       "<style scoped>\n",
       "    .dataframe tbody tr th:only-of-type {\n",
       "        vertical-align: middle;\n",
       "    }\n",
       "\n",
       "    .dataframe tbody tr th {\n",
       "        vertical-align: top;\n",
       "    }\n",
       "\n",
       "    .dataframe thead th {\n",
       "        text-align: right;\n",
       "    }\n",
       "</style>\n",
       "<table border=\"1\" class=\"dataframe\">\n",
       "  <thead>\n",
       "    <tr style=\"text-align: right;\">\n",
       "      <th></th>\n",
       "      <th>id</th>\n",
       "      <th>message_date</th>\n",
       "      <th>user_id</th>\n",
       "      <th>month</th>\n",
       "    </tr>\n",
       "  </thead>\n",
       "  <tbody>\n",
       "    <tr>\n",
       "      <td>0</td>\n",
       "      <td>1000_0</td>\n",
       "      <td>2018-06-27</td>\n",
       "      <td>1000</td>\n",
       "      <td>6</td>\n",
       "    </tr>\n",
       "    <tr>\n",
       "      <td>1</td>\n",
       "      <td>1000_1</td>\n",
       "      <td>2018-10-08</td>\n",
       "      <td>1000</td>\n",
       "      <td>10</td>\n",
       "    </tr>\n",
       "    <tr>\n",
       "      <td>2</td>\n",
       "      <td>1000_2</td>\n",
       "      <td>2018-08-04</td>\n",
       "      <td>1000</td>\n",
       "      <td>8</td>\n",
       "    </tr>\n",
       "    <tr>\n",
       "      <td>3</td>\n",
       "      <td>1000_3</td>\n",
       "      <td>2018-06-16</td>\n",
       "      <td>1000</td>\n",
       "      <td>6</td>\n",
       "    </tr>\n",
       "    <tr>\n",
       "      <td>4</td>\n",
       "      <td>1000_4</td>\n",
       "      <td>2018-12-05</td>\n",
       "      <td>1000</td>\n",
       "      <td>12</td>\n",
       "    </tr>\n",
       "    <tr>\n",
       "      <td>5</td>\n",
       "      <td>1000_5</td>\n",
       "      <td>2018-06-20</td>\n",
       "      <td>1000</td>\n",
       "      <td>6</td>\n",
       "    </tr>\n",
       "    <tr>\n",
       "      <td>6</td>\n",
       "      <td>1000_6</td>\n",
       "      <td>2018-11-19</td>\n",
       "      <td>1000</td>\n",
       "      <td>11</td>\n",
       "    </tr>\n",
       "    <tr>\n",
       "      <td>7</td>\n",
       "      <td>1000_7</td>\n",
       "      <td>2018-10-29</td>\n",
       "      <td>1000</td>\n",
       "      <td>10</td>\n",
       "    </tr>\n",
       "    <tr>\n",
       "      <td>8</td>\n",
       "      <td>1000_8</td>\n",
       "      <td>2018-06-25</td>\n",
       "      <td>1000</td>\n",
       "      <td>6</td>\n",
       "    </tr>\n",
       "    <tr>\n",
       "      <td>9</td>\n",
       "      <td>1000_9</td>\n",
       "      <td>2018-12-18</td>\n",
       "      <td>1000</td>\n",
       "      <td>12</td>\n",
       "    </tr>\n",
       "  </tbody>\n",
       "</table>\n",
       "</div>"
      ],
      "text/plain": [
       "       id message_date  user_id  month\n",
       "0  1000_0   2018-06-27     1000      6\n",
       "1  1000_1   2018-10-08     1000     10\n",
       "2  1000_2   2018-08-04     1000      8\n",
       "3  1000_3   2018-06-16     1000      6\n",
       "4  1000_4   2018-12-05     1000     12\n",
       "5  1000_5   2018-06-20     1000      6\n",
       "6  1000_6   2018-11-19     1000     11\n",
       "7  1000_7   2018-10-29     1000     10\n",
       "8  1000_8   2018-06-25     1000      6\n",
       "9  1000_9   2018-12-18     1000     12"
      ]
     },
     "execution_count": 38,
     "metadata": {},
     "output_type": "execute_result"
    }
   ],
   "source": [
    "data_messages.head(10)"
   ]
  },
  {
   "cell_type": "code",
   "execution_count": 39,
   "id": "40880fd1",
   "metadata": {},
   "outputs": [
    {
     "data": {
      "text/html": [
       "<div>\n",
       "<style scoped>\n",
       "    .dataframe tbody tr th:only-of-type {\n",
       "        vertical-align: middle;\n",
       "    }\n",
       "\n",
       "    .dataframe tbody tr th {\n",
       "        vertical-align: top;\n",
       "    }\n",
       "\n",
       "    .dataframe thead th {\n",
       "        text-align: right;\n",
       "    }\n",
       "</style>\n",
       "<table border=\"1\" class=\"dataframe\">\n",
       "  <thead>\n",
       "    <tr style=\"text-align: right;\">\n",
       "      <th></th>\n",
       "      <th>id</th>\n",
       "      <th>call_date</th>\n",
       "      <th>duration</th>\n",
       "      <th>user_id</th>\n",
       "      <th>month</th>\n",
       "    </tr>\n",
       "  </thead>\n",
       "  <tbody>\n",
       "    <tr>\n",
       "      <td>0</td>\n",
       "      <td>1000_0</td>\n",
       "      <td>2018-07-25</td>\n",
       "      <td>0.00</td>\n",
       "      <td>1000</td>\n",
       "      <td>7</td>\n",
       "    </tr>\n",
       "    <tr>\n",
       "      <td>1</td>\n",
       "      <td>1000_1</td>\n",
       "      <td>2018-08-17</td>\n",
       "      <td>0.00</td>\n",
       "      <td>1000</td>\n",
       "      <td>8</td>\n",
       "    </tr>\n",
       "    <tr>\n",
       "      <td>2</td>\n",
       "      <td>1000_2</td>\n",
       "      <td>2018-06-11</td>\n",
       "      <td>2.85</td>\n",
       "      <td>1000</td>\n",
       "      <td>6</td>\n",
       "    </tr>\n",
       "    <tr>\n",
       "      <td>3</td>\n",
       "      <td>1000_3</td>\n",
       "      <td>2018-09-21</td>\n",
       "      <td>13.80</td>\n",
       "      <td>1000</td>\n",
       "      <td>9</td>\n",
       "    </tr>\n",
       "    <tr>\n",
       "      <td>4</td>\n",
       "      <td>1000_4</td>\n",
       "      <td>2018-12-15</td>\n",
       "      <td>5.18</td>\n",
       "      <td>1000</td>\n",
       "      <td>12</td>\n",
       "    </tr>\n",
       "    <tr>\n",
       "      <td>5</td>\n",
       "      <td>1000_5</td>\n",
       "      <td>2018-11-02</td>\n",
       "      <td>0.00</td>\n",
       "      <td>1000</td>\n",
       "      <td>11</td>\n",
       "    </tr>\n",
       "    <tr>\n",
       "      <td>6</td>\n",
       "      <td>1000_6</td>\n",
       "      <td>2018-10-18</td>\n",
       "      <td>0.00</td>\n",
       "      <td>1000</td>\n",
       "      <td>10</td>\n",
       "    </tr>\n",
       "    <tr>\n",
       "      <td>7</td>\n",
       "      <td>1000_7</td>\n",
       "      <td>2018-08-22</td>\n",
       "      <td>18.31</td>\n",
       "      <td>1000</td>\n",
       "      <td>8</td>\n",
       "    </tr>\n",
       "    <tr>\n",
       "      <td>8</td>\n",
       "      <td>1000_8</td>\n",
       "      <td>2018-09-15</td>\n",
       "      <td>18.44</td>\n",
       "      <td>1000</td>\n",
       "      <td>9</td>\n",
       "    </tr>\n",
       "    <tr>\n",
       "      <td>9</td>\n",
       "      <td>1000_9</td>\n",
       "      <td>2018-08-15</td>\n",
       "      <td>0.00</td>\n",
       "      <td>1000</td>\n",
       "      <td>8</td>\n",
       "    </tr>\n",
       "  </tbody>\n",
       "</table>\n",
       "</div>"
      ],
      "text/plain": [
       "       id  call_date  duration  user_id  month\n",
       "0  1000_0 2018-07-25      0.00     1000      7\n",
       "1  1000_1 2018-08-17      0.00     1000      8\n",
       "2  1000_2 2018-06-11      2.85     1000      6\n",
       "3  1000_3 2018-09-21     13.80     1000      9\n",
       "4  1000_4 2018-12-15      5.18     1000     12\n",
       "5  1000_5 2018-11-02      0.00     1000     11\n",
       "6  1000_6 2018-10-18      0.00     1000     10\n",
       "7  1000_7 2018-08-22     18.31     1000      8\n",
       "8  1000_8 2018-09-15     18.44     1000      9\n",
       "9  1000_9 2018-08-15      0.00     1000      8"
      ]
     },
     "execution_count": 39,
     "metadata": {},
     "output_type": "execute_result"
    }
   ],
   "source": [
    "data_calls.head(10)"
   ]
  },
  {
   "cell_type": "code",
   "execution_count": 40,
   "id": "2edecfe1",
   "metadata": {},
   "outputs": [],
   "source": [
    "import math \n",
    "\n",
    "data_calls['duration'] = data_calls['duration'].apply(math.ceil)\n"
   ]
  },
  {
   "cell_type": "code",
   "execution_count": 41,
   "id": "8b5ae339",
   "metadata": {},
   "outputs": [
    {
     "data": {
      "text/html": [
       "<div>\n",
       "<style scoped>\n",
       "    .dataframe tbody tr th:only-of-type {\n",
       "        vertical-align: middle;\n",
       "    }\n",
       "\n",
       "    .dataframe tbody tr th {\n",
       "        vertical-align: top;\n",
       "    }\n",
       "\n",
       "    .dataframe thead th {\n",
       "        text-align: right;\n",
       "    }\n",
       "</style>\n",
       "<table border=\"1\" class=\"dataframe\">\n",
       "  <thead>\n",
       "    <tr style=\"text-align: right;\">\n",
       "      <th></th>\n",
       "      <th>id</th>\n",
       "      <th>call_date</th>\n",
       "      <th>duration</th>\n",
       "      <th>user_id</th>\n",
       "      <th>month</th>\n",
       "    </tr>\n",
       "  </thead>\n",
       "  <tbody>\n",
       "    <tr>\n",
       "      <td>0</td>\n",
       "      <td>1000_0</td>\n",
       "      <td>2018-07-25</td>\n",
       "      <td>0</td>\n",
       "      <td>1000</td>\n",
       "      <td>7</td>\n",
       "    </tr>\n",
       "    <tr>\n",
       "      <td>1</td>\n",
       "      <td>1000_1</td>\n",
       "      <td>2018-08-17</td>\n",
       "      <td>0</td>\n",
       "      <td>1000</td>\n",
       "      <td>8</td>\n",
       "    </tr>\n",
       "    <tr>\n",
       "      <td>2</td>\n",
       "      <td>1000_2</td>\n",
       "      <td>2018-06-11</td>\n",
       "      <td>3</td>\n",
       "      <td>1000</td>\n",
       "      <td>6</td>\n",
       "    </tr>\n",
       "    <tr>\n",
       "      <td>3</td>\n",
       "      <td>1000_3</td>\n",
       "      <td>2018-09-21</td>\n",
       "      <td>14</td>\n",
       "      <td>1000</td>\n",
       "      <td>9</td>\n",
       "    </tr>\n",
       "    <tr>\n",
       "      <td>4</td>\n",
       "      <td>1000_4</td>\n",
       "      <td>2018-12-15</td>\n",
       "      <td>6</td>\n",
       "      <td>1000</td>\n",
       "      <td>12</td>\n",
       "    </tr>\n",
       "    <tr>\n",
       "      <td>5</td>\n",
       "      <td>1000_5</td>\n",
       "      <td>2018-11-02</td>\n",
       "      <td>0</td>\n",
       "      <td>1000</td>\n",
       "      <td>11</td>\n",
       "    </tr>\n",
       "    <tr>\n",
       "      <td>6</td>\n",
       "      <td>1000_6</td>\n",
       "      <td>2018-10-18</td>\n",
       "      <td>0</td>\n",
       "      <td>1000</td>\n",
       "      <td>10</td>\n",
       "    </tr>\n",
       "    <tr>\n",
       "      <td>7</td>\n",
       "      <td>1000_7</td>\n",
       "      <td>2018-08-22</td>\n",
       "      <td>19</td>\n",
       "      <td>1000</td>\n",
       "      <td>8</td>\n",
       "    </tr>\n",
       "    <tr>\n",
       "      <td>8</td>\n",
       "      <td>1000_8</td>\n",
       "      <td>2018-09-15</td>\n",
       "      <td>19</td>\n",
       "      <td>1000</td>\n",
       "      <td>9</td>\n",
       "    </tr>\n",
       "    <tr>\n",
       "      <td>9</td>\n",
       "      <td>1000_9</td>\n",
       "      <td>2018-08-15</td>\n",
       "      <td>0</td>\n",
       "      <td>1000</td>\n",
       "      <td>8</td>\n",
       "    </tr>\n",
       "  </tbody>\n",
       "</table>\n",
       "</div>"
      ],
      "text/plain": [
       "       id  call_date  duration  user_id  month\n",
       "0  1000_0 2018-07-25         0     1000      7\n",
       "1  1000_1 2018-08-17         0     1000      8\n",
       "2  1000_2 2018-06-11         3     1000      6\n",
       "3  1000_3 2018-09-21        14     1000      9\n",
       "4  1000_4 2018-12-15         6     1000     12\n",
       "5  1000_5 2018-11-02         0     1000     11\n",
       "6  1000_6 2018-10-18         0     1000     10\n",
       "7  1000_7 2018-08-22        19     1000      8\n",
       "8  1000_8 2018-09-15        19     1000      9\n",
       "9  1000_9 2018-08-15         0     1000      8"
      ]
     },
     "execution_count": 41,
     "metadata": {},
     "output_type": "execute_result"
    }
   ],
   "source": [
    "data_calls.head(10)"
   ]
  },
  {
   "cell_type": "code",
   "execution_count": 42,
   "id": "fe034f78",
   "metadata": {},
   "outputs": [],
   "source": [
    "data_calls_next = data_calls.pivot_table(index=['user_id','month'], values='duration', aggfunc='sum')"
   ]
  },
  {
   "cell_type": "code",
   "execution_count": 43,
   "id": "9408c34a",
   "metadata": {},
   "outputs": [],
   "source": [
    "data_messages_next = data_messages.pivot_table(index=['user_id','month'], values='id', aggfunc='count')"
   ]
  },
  {
   "cell_type": "code",
   "execution_count": 44,
   "id": "33d89586",
   "metadata": {},
   "outputs": [],
   "source": [
    "data_internet_next = data_internet.pivot_table(index=['user_id','month'], values='mb_used', aggfunc='sum')"
   ]
  },
  {
   "cell_type": "code",
   "execution_count": 45,
   "id": "76f92d83",
   "metadata": {},
   "outputs": [
    {
     "data": {
      "text/html": [
       "<div>\n",
       "<style scoped>\n",
       "    .dataframe tbody tr th:only-of-type {\n",
       "        vertical-align: middle;\n",
       "    }\n",
       "\n",
       "    .dataframe tbody tr th {\n",
       "        vertical-align: top;\n",
       "    }\n",
       "\n",
       "    .dataframe thead th {\n",
       "        text-align: right;\n",
       "    }\n",
       "</style>\n",
       "<table border=\"1\" class=\"dataframe\">\n",
       "  <thead>\n",
       "    <tr style=\"text-align: right;\">\n",
       "      <th></th>\n",
       "      <th></th>\n",
       "      <th>duration</th>\n",
       "    </tr>\n",
       "    <tr>\n",
       "      <th>user_id</th>\n",
       "      <th>month</th>\n",
       "      <th></th>\n",
       "    </tr>\n",
       "  </thead>\n",
       "  <tbody>\n",
       "    <tr>\n",
       "      <td rowspan=\"8\" valign=\"top\">1000</td>\n",
       "      <td>5</td>\n",
       "      <td>159</td>\n",
       "    </tr>\n",
       "    <tr>\n",
       "      <td>6</td>\n",
       "      <td>172</td>\n",
       "    </tr>\n",
       "    <tr>\n",
       "      <td>7</td>\n",
       "      <td>340</td>\n",
       "    </tr>\n",
       "    <tr>\n",
       "      <td>8</td>\n",
       "      <td>408</td>\n",
       "    </tr>\n",
       "    <tr>\n",
       "      <td>9</td>\n",
       "      <td>466</td>\n",
       "    </tr>\n",
       "    <tr>\n",
       "      <td>10</td>\n",
       "      <td>350</td>\n",
       "    </tr>\n",
       "    <tr>\n",
       "      <td>11</td>\n",
       "      <td>338</td>\n",
       "    </tr>\n",
       "    <tr>\n",
       "      <td>12</td>\n",
       "      <td>333</td>\n",
       "    </tr>\n",
       "    <tr>\n",
       "      <td rowspan=\"2\" valign=\"top\">1001</td>\n",
       "      <td>11</td>\n",
       "      <td>430</td>\n",
       "    </tr>\n",
       "    <tr>\n",
       "      <td>12</td>\n",
       "      <td>414</td>\n",
       "    </tr>\n",
       "  </tbody>\n",
       "</table>\n",
       "</div>"
      ],
      "text/plain": [
       "               duration\n",
       "user_id month          \n",
       "1000    5           159\n",
       "        6           172\n",
       "        7           340\n",
       "        8           408\n",
       "        9           466\n",
       "        10          350\n",
       "        11          338\n",
       "        12          333\n",
       "1001    11          430\n",
       "        12          414"
      ]
     },
     "execution_count": 45,
     "metadata": {},
     "output_type": "execute_result"
    }
   ],
   "source": [
    "data_calls_next.head(10)"
   ]
  },
  {
   "cell_type": "code",
   "execution_count": 46,
   "id": "fe92d109",
   "metadata": {},
   "outputs": [],
   "source": [
    "data_next1 = data_messages_next.merge(data_calls_next, on=['user_id','month'], how='left')"
   ]
  },
  {
   "cell_type": "code",
   "execution_count": 47,
   "id": "7b4ebc10",
   "metadata": {},
   "outputs": [
    {
     "name": "stdout",
     "output_type": "stream",
     "text": [
      "<class 'pandas.core.frame.DataFrame'>\n",
      "MultiIndex: 2717 entries, (1000, 5) to (1499, 12)\n",
      "Data columns (total 2 columns):\n",
      "id          2717 non-null int64\n",
      "duration    2678 non-null float64\n",
      "dtypes: float64(1), int64(1)\n",
      "memory usage: 53.9 KB\n"
     ]
    }
   ],
   "source": [
    "data_next1.info()"
   ]
  },
  {
   "cell_type": "code",
   "execution_count": 48,
   "id": "fcb47e52",
   "metadata": {},
   "outputs": [
    {
     "data": {
      "text/html": [
       "<div>\n",
       "<style scoped>\n",
       "    .dataframe tbody tr th:only-of-type {\n",
       "        vertical-align: middle;\n",
       "    }\n",
       "\n",
       "    .dataframe tbody tr th {\n",
       "        vertical-align: top;\n",
       "    }\n",
       "\n",
       "    .dataframe thead th {\n",
       "        text-align: right;\n",
       "    }\n",
       "</style>\n",
       "<table border=\"1\" class=\"dataframe\">\n",
       "  <thead>\n",
       "    <tr style=\"text-align: right;\">\n",
       "      <th></th>\n",
       "      <th></th>\n",
       "      <th>id</th>\n",
       "      <th>duration</th>\n",
       "    </tr>\n",
       "    <tr>\n",
       "      <th>user_id</th>\n",
       "      <th>month</th>\n",
       "      <th></th>\n",
       "      <th></th>\n",
       "    </tr>\n",
       "  </thead>\n",
       "  <tbody>\n",
       "    <tr>\n",
       "      <td rowspan=\"8\" valign=\"top\">1000</td>\n",
       "      <td>5</td>\n",
       "      <td>22</td>\n",
       "      <td>159.0</td>\n",
       "    </tr>\n",
       "    <tr>\n",
       "      <td>6</td>\n",
       "      <td>60</td>\n",
       "      <td>172.0</td>\n",
       "    </tr>\n",
       "    <tr>\n",
       "      <td>7</td>\n",
       "      <td>75</td>\n",
       "      <td>340.0</td>\n",
       "    </tr>\n",
       "    <tr>\n",
       "      <td>8</td>\n",
       "      <td>81</td>\n",
       "      <td>408.0</td>\n",
       "    </tr>\n",
       "    <tr>\n",
       "      <td>9</td>\n",
       "      <td>57</td>\n",
       "      <td>466.0</td>\n",
       "    </tr>\n",
       "    <tr>\n",
       "      <td>10</td>\n",
       "      <td>73</td>\n",
       "      <td>350.0</td>\n",
       "    </tr>\n",
       "    <tr>\n",
       "      <td>11</td>\n",
       "      <td>58</td>\n",
       "      <td>338.0</td>\n",
       "    </tr>\n",
       "    <tr>\n",
       "      <td>12</td>\n",
       "      <td>70</td>\n",
       "      <td>333.0</td>\n",
       "    </tr>\n",
       "    <tr>\n",
       "      <td rowspan=\"2\" valign=\"top\">1002</td>\n",
       "      <td>6</td>\n",
       "      <td>4</td>\n",
       "      <td>117.0</td>\n",
       "    </tr>\n",
       "    <tr>\n",
       "      <td>7</td>\n",
       "      <td>11</td>\n",
       "      <td>214.0</td>\n",
       "    </tr>\n",
       "  </tbody>\n",
       "</table>\n",
       "</div>"
      ],
      "text/plain": [
       "               id  duration\n",
       "user_id month              \n",
       "1000    5      22     159.0\n",
       "        6      60     172.0\n",
       "        7      75     340.0\n",
       "        8      81     408.0\n",
       "        9      57     466.0\n",
       "        10     73     350.0\n",
       "        11     58     338.0\n",
       "        12     70     333.0\n",
       "1002    6       4     117.0\n",
       "        7      11     214.0"
      ]
     },
     "execution_count": 48,
     "metadata": {},
     "output_type": "execute_result"
    }
   ],
   "source": [
    "data_next1.head(10)"
   ]
  },
  {
   "cell_type": "code",
   "execution_count": 49,
   "id": "32d1f81d",
   "metadata": {},
   "outputs": [],
   "source": [
    "data_next_lol = data_messages_next.merge(data_calls_next, on=['user_id','month'], how='outer')"
   ]
  },
  {
   "cell_type": "code",
   "execution_count": 50,
   "id": "cb242788",
   "metadata": {},
   "outputs": [
    {
     "name": "stdout",
     "output_type": "stream",
     "text": [
      "<class 'pandas.core.frame.DataFrame'>\n",
      "MultiIndex: 3213 entries, (1000, 5) to (1494, 12)\n",
      "Data columns (total 2 columns):\n",
      "id          2717 non-null float64\n",
      "duration    3174 non-null float64\n",
      "dtypes: float64(2)\n",
      "memory usage: 63.7 KB\n"
     ]
    }
   ],
   "source": [
    "data_next_lol.info()"
   ]
  },
  {
   "cell_type": "code",
   "execution_count": 51,
   "id": "2ede516a",
   "metadata": {},
   "outputs": [],
   "source": [
    "data_next2 = data_next1.merge(data_internet_next, on=['user_id','month'], how='outer')\n",
    "data_next2.rename(columns={'id': 'sms', 'duration': 'call_min'}, inplace=True)"
   ]
  },
  {
   "cell_type": "code",
   "execution_count": 52,
   "id": "3a7f2468",
   "metadata": {},
   "outputs": [
    {
     "data": {
      "text/html": [
       "<div>\n",
       "<style scoped>\n",
       "    .dataframe tbody tr th:only-of-type {\n",
       "        vertical-align: middle;\n",
       "    }\n",
       "\n",
       "    .dataframe tbody tr th {\n",
       "        vertical-align: top;\n",
       "    }\n",
       "\n",
       "    .dataframe thead th {\n",
       "        text-align: right;\n",
       "    }\n",
       "</style>\n",
       "<table border=\"1\" class=\"dataframe\">\n",
       "  <thead>\n",
       "    <tr style=\"text-align: right;\">\n",
       "      <th></th>\n",
       "      <th></th>\n",
       "      <th>sms</th>\n",
       "      <th>call_min</th>\n",
       "      <th>mb_used</th>\n",
       "    </tr>\n",
       "    <tr>\n",
       "      <th>user_id</th>\n",
       "      <th>month</th>\n",
       "      <th></th>\n",
       "      <th></th>\n",
       "      <th></th>\n",
       "    </tr>\n",
       "  </thead>\n",
       "  <tbody>\n",
       "    <tr>\n",
       "      <td rowspan=\"8\" valign=\"top\">1000</td>\n",
       "      <td>5</td>\n",
       "      <td>22.0</td>\n",
       "      <td>159.0</td>\n",
       "      <td>2253.49</td>\n",
       "    </tr>\n",
       "    <tr>\n",
       "      <td>6</td>\n",
       "      <td>60.0</td>\n",
       "      <td>172.0</td>\n",
       "      <td>23233.77</td>\n",
       "    </tr>\n",
       "    <tr>\n",
       "      <td>7</td>\n",
       "      <td>75.0</td>\n",
       "      <td>340.0</td>\n",
       "      <td>14003.64</td>\n",
       "    </tr>\n",
       "    <tr>\n",
       "      <td>8</td>\n",
       "      <td>81.0</td>\n",
       "      <td>408.0</td>\n",
       "      <td>14055.93</td>\n",
       "    </tr>\n",
       "    <tr>\n",
       "      <td>9</td>\n",
       "      <td>57.0</td>\n",
       "      <td>466.0</td>\n",
       "      <td>14568.91</td>\n",
       "    </tr>\n",
       "    <tr>\n",
       "      <td>10</td>\n",
       "      <td>73.0</td>\n",
       "      <td>350.0</td>\n",
       "      <td>14702.49</td>\n",
       "    </tr>\n",
       "    <tr>\n",
       "      <td>11</td>\n",
       "      <td>58.0</td>\n",
       "      <td>338.0</td>\n",
       "      <td>14756.47</td>\n",
       "    </tr>\n",
       "    <tr>\n",
       "      <td>12</td>\n",
       "      <td>70.0</td>\n",
       "      <td>333.0</td>\n",
       "      <td>9817.61</td>\n",
       "    </tr>\n",
       "    <tr>\n",
       "      <td rowspan=\"2\" valign=\"top\">1002</td>\n",
       "      <td>6</td>\n",
       "      <td>4.0</td>\n",
       "      <td>117.0</td>\n",
       "      <td>10856.82</td>\n",
       "    </tr>\n",
       "    <tr>\n",
       "      <td>7</td>\n",
       "      <td>11.0</td>\n",
       "      <td>214.0</td>\n",
       "      <td>17580.10</td>\n",
       "    </tr>\n",
       "  </tbody>\n",
       "</table>\n",
       "</div>"
      ],
      "text/plain": [
       "                sms  call_min   mb_used\n",
       "user_id month                          \n",
       "1000    5      22.0     159.0   2253.49\n",
       "        6      60.0     172.0  23233.77\n",
       "        7      75.0     340.0  14003.64\n",
       "        8      81.0     408.0  14055.93\n",
       "        9      57.0     466.0  14568.91\n",
       "        10     73.0     350.0  14702.49\n",
       "        11     58.0     338.0  14756.47\n",
       "        12     70.0     333.0   9817.61\n",
       "1002    6       4.0     117.0  10856.82\n",
       "        7      11.0     214.0  17580.10"
      ]
     },
     "execution_count": 52,
     "metadata": {},
     "output_type": "execute_result"
    }
   ],
   "source": [
    "data_next2.head(10)\n"
   ]
  },
  {
   "cell_type": "code",
   "execution_count": 53,
   "id": "a5a4355f",
   "metadata": {},
   "outputs": [],
   "source": [
    "data_next3 = data_users.pivot_table(index=['user_id', 'tariff','city'])\n",
    "data_next3 = data_next3.reset_index(level=['city'])"
   ]
  },
  {
   "cell_type": "code",
   "execution_count": 54,
   "id": "748506b8",
   "metadata": {},
   "outputs": [
    {
     "data": {
      "text/html": [
       "<div>\n",
       "<style scoped>\n",
       "    .dataframe tbody tr th:only-of-type {\n",
       "        vertical-align: middle;\n",
       "    }\n",
       "\n",
       "    .dataframe tbody tr th {\n",
       "        vertical-align: top;\n",
       "    }\n",
       "\n",
       "    .dataframe thead th {\n",
       "        text-align: right;\n",
       "    }\n",
       "</style>\n",
       "<table border=\"1\" class=\"dataframe\">\n",
       "  <thead>\n",
       "    <tr style=\"text-align: right;\">\n",
       "      <th></th>\n",
       "      <th></th>\n",
       "      <th>city</th>\n",
       "      <th>age</th>\n",
       "    </tr>\n",
       "    <tr>\n",
       "      <th>user_id</th>\n",
       "      <th>tariff</th>\n",
       "      <th></th>\n",
       "      <th></th>\n",
       "    </tr>\n",
       "  </thead>\n",
       "  <tbody>\n",
       "    <tr>\n",
       "      <td>1000</td>\n",
       "      <td>ultra</td>\n",
       "      <td>Краснодар</td>\n",
       "      <td>52</td>\n",
       "    </tr>\n",
       "    <tr>\n",
       "      <td>1001</td>\n",
       "      <td>smart</td>\n",
       "      <td>Москва</td>\n",
       "      <td>41</td>\n",
       "    </tr>\n",
       "    <tr>\n",
       "      <td>1002</td>\n",
       "      <td>smart</td>\n",
       "      <td>Стерлитамак</td>\n",
       "      <td>59</td>\n",
       "    </tr>\n",
       "    <tr>\n",
       "      <td>1003</td>\n",
       "      <td>ultra</td>\n",
       "      <td>Москва</td>\n",
       "      <td>23</td>\n",
       "    </tr>\n",
       "    <tr>\n",
       "      <td>1004</td>\n",
       "      <td>ultra</td>\n",
       "      <td>Новокузнецк</td>\n",
       "      <td>68</td>\n",
       "    </tr>\n",
       "    <tr>\n",
       "      <td>1005</td>\n",
       "      <td>smart</td>\n",
       "      <td>Набережные Челны</td>\n",
       "      <td>67</td>\n",
       "    </tr>\n",
       "    <tr>\n",
       "      <td>1006</td>\n",
       "      <td>smart</td>\n",
       "      <td>Ульяновск</td>\n",
       "      <td>21</td>\n",
       "    </tr>\n",
       "    <tr>\n",
       "      <td>1007</td>\n",
       "      <td>smart</td>\n",
       "      <td>Москва</td>\n",
       "      <td>65</td>\n",
       "    </tr>\n",
       "    <tr>\n",
       "      <td>1008</td>\n",
       "      <td>smart</td>\n",
       "      <td>Челябинск</td>\n",
       "      <td>63</td>\n",
       "    </tr>\n",
       "    <tr>\n",
       "      <td>1009</td>\n",
       "      <td>smart</td>\n",
       "      <td>Пермь</td>\n",
       "      <td>24</td>\n",
       "    </tr>\n",
       "  </tbody>\n",
       "</table>\n",
       "</div>"
      ],
      "text/plain": [
       "                            city  age\n",
       "user_id tariff                       \n",
       "1000    ultra          Краснодар   52\n",
       "1001    smart             Москва   41\n",
       "1002    smart        Стерлитамак   59\n",
       "1003    ultra             Москва   23\n",
       "1004    ultra        Новокузнецк   68\n",
       "1005    smart   Набережные Челны   67\n",
       "1006    smart          Ульяновск   21\n",
       "1007    smart             Москва   65\n",
       "1008    smart          Челябинск   63\n",
       "1009    smart              Пермь   24"
      ]
     },
     "execution_count": 54,
     "metadata": {},
     "output_type": "execute_result"
    }
   ],
   "source": [
    "data_next3.head(10)"
   ]
  },
  {
   "cell_type": "code",
   "execution_count": 55,
   "id": "2a5a6239",
   "metadata": {},
   "outputs": [],
   "source": [
    "data_next4 = data_next2.join(data_next3)\n",
    "data_next4 = data_next4.reset_index(level=['tariff'])"
   ]
  },
  {
   "cell_type": "code",
   "execution_count": 56,
   "id": "fa55d489",
   "metadata": {},
   "outputs": [
    {
     "data": {
      "text/html": [
       "<div>\n",
       "<style scoped>\n",
       "    .dataframe tbody tr th:only-of-type {\n",
       "        vertical-align: middle;\n",
       "    }\n",
       "\n",
       "    .dataframe tbody tr th {\n",
       "        vertical-align: top;\n",
       "    }\n",
       "\n",
       "    .dataframe thead th {\n",
       "        text-align: right;\n",
       "    }\n",
       "</style>\n",
       "<table border=\"1\" class=\"dataframe\">\n",
       "  <thead>\n",
       "    <tr style=\"text-align: right;\">\n",
       "      <th></th>\n",
       "      <th></th>\n",
       "      <th>tariff</th>\n",
       "      <th>sms</th>\n",
       "      <th>call_min</th>\n",
       "      <th>mb_used</th>\n",
       "      <th>city</th>\n",
       "      <th>age</th>\n",
       "    </tr>\n",
       "    <tr>\n",
       "      <th>user_id</th>\n",
       "      <th>month</th>\n",
       "      <th></th>\n",
       "      <th></th>\n",
       "      <th></th>\n",
       "      <th></th>\n",
       "      <th></th>\n",
       "      <th></th>\n",
       "    </tr>\n",
       "  </thead>\n",
       "  <tbody>\n",
       "    <tr>\n",
       "      <td rowspan=\"8\" valign=\"top\">1000</td>\n",
       "      <td>5</td>\n",
       "      <td>ultra</td>\n",
       "      <td>22.0</td>\n",
       "      <td>159.0</td>\n",
       "      <td>2253.49</td>\n",
       "      <td>Краснодар</td>\n",
       "      <td>52</td>\n",
       "    </tr>\n",
       "    <tr>\n",
       "      <td>6</td>\n",
       "      <td>ultra</td>\n",
       "      <td>60.0</td>\n",
       "      <td>172.0</td>\n",
       "      <td>23233.77</td>\n",
       "      <td>Краснодар</td>\n",
       "      <td>52</td>\n",
       "    </tr>\n",
       "    <tr>\n",
       "      <td>7</td>\n",
       "      <td>ultra</td>\n",
       "      <td>75.0</td>\n",
       "      <td>340.0</td>\n",
       "      <td>14003.64</td>\n",
       "      <td>Краснодар</td>\n",
       "      <td>52</td>\n",
       "    </tr>\n",
       "    <tr>\n",
       "      <td>8</td>\n",
       "      <td>ultra</td>\n",
       "      <td>81.0</td>\n",
       "      <td>408.0</td>\n",
       "      <td>14055.93</td>\n",
       "      <td>Краснодар</td>\n",
       "      <td>52</td>\n",
       "    </tr>\n",
       "    <tr>\n",
       "      <td>9</td>\n",
       "      <td>ultra</td>\n",
       "      <td>57.0</td>\n",
       "      <td>466.0</td>\n",
       "      <td>14568.91</td>\n",
       "      <td>Краснодар</td>\n",
       "      <td>52</td>\n",
       "    </tr>\n",
       "    <tr>\n",
       "      <td>10</td>\n",
       "      <td>ultra</td>\n",
       "      <td>73.0</td>\n",
       "      <td>350.0</td>\n",
       "      <td>14702.49</td>\n",
       "      <td>Краснодар</td>\n",
       "      <td>52</td>\n",
       "    </tr>\n",
       "    <tr>\n",
       "      <td>11</td>\n",
       "      <td>ultra</td>\n",
       "      <td>58.0</td>\n",
       "      <td>338.0</td>\n",
       "      <td>14756.47</td>\n",
       "      <td>Краснодар</td>\n",
       "      <td>52</td>\n",
       "    </tr>\n",
       "    <tr>\n",
       "      <td>12</td>\n",
       "      <td>ultra</td>\n",
       "      <td>70.0</td>\n",
       "      <td>333.0</td>\n",
       "      <td>9817.61</td>\n",
       "      <td>Краснодар</td>\n",
       "      <td>52</td>\n",
       "    </tr>\n",
       "    <tr>\n",
       "      <td rowspan=\"2\" valign=\"top\">1001</td>\n",
       "      <td>11</td>\n",
       "      <td>smart</td>\n",
       "      <td>NaN</td>\n",
       "      <td>NaN</td>\n",
       "      <td>18429.34</td>\n",
       "      <td>Москва</td>\n",
       "      <td>41</td>\n",
       "    </tr>\n",
       "    <tr>\n",
       "      <td>12</td>\n",
       "      <td>smart</td>\n",
       "      <td>NaN</td>\n",
       "      <td>NaN</td>\n",
       "      <td>14036.66</td>\n",
       "      <td>Москва</td>\n",
       "      <td>41</td>\n",
       "    </tr>\n",
       "  </tbody>\n",
       "</table>\n",
       "</div>"
      ],
      "text/plain": [
       "              tariff   sms  call_min   mb_used       city  age\n",
       "user_id month                                                 \n",
       "1000    5      ultra  22.0     159.0   2253.49  Краснодар   52\n",
       "        6      ultra  60.0     172.0  23233.77  Краснодар   52\n",
       "        7      ultra  75.0     340.0  14003.64  Краснодар   52\n",
       "        8      ultra  81.0     408.0  14055.93  Краснодар   52\n",
       "        9      ultra  57.0     466.0  14568.91  Краснодар   52\n",
       "        10     ultra  73.0     350.0  14702.49  Краснодар   52\n",
       "        11     ultra  58.0     338.0  14756.47  Краснодар   52\n",
       "        12     ultra  70.0     333.0   9817.61  Краснодар   52\n",
       "1001    11     smart   NaN       NaN  18429.34     Москва   41\n",
       "        12     smart   NaN       NaN  14036.66     Москва   41"
      ]
     },
     "execution_count": 56,
     "metadata": {},
     "output_type": "execute_result"
    }
   ],
   "source": [
    "data_next4.head(10)"
   ]
  },
  {
   "cell_type": "code",
   "execution_count": 57,
   "id": "6d7e7da0",
   "metadata": {},
   "outputs": [
    {
     "data": {
      "text/plain": [
       "tariff        0\n",
       "sms         497\n",
       "call_min    536\n",
       "mb_used      11\n",
       "city          0\n",
       "age           0\n",
       "dtype: int64"
      ]
     },
     "execution_count": 57,
     "metadata": {},
     "output_type": "execute_result"
    }
   ],
   "source": [
    "data_next4.isna().sum()"
   ]
  },
  {
   "cell_type": "code",
   "execution_count": 58,
   "id": "e0b08362",
   "metadata": {},
   "outputs": [],
   "source": [
    "data_next4 = data_next4.fillna(0)"
   ]
  },
  {
   "cell_type": "code",
   "execution_count": 59,
   "id": "2a84ad5e",
   "metadata": {},
   "outputs": [
    {
     "data": {
      "text/html": [
       "<div>\n",
       "<style scoped>\n",
       "    .dataframe tbody tr th:only-of-type {\n",
       "        vertical-align: middle;\n",
       "    }\n",
       "\n",
       "    .dataframe tbody tr th {\n",
       "        vertical-align: top;\n",
       "    }\n",
       "\n",
       "    .dataframe thead th {\n",
       "        text-align: right;\n",
       "    }\n",
       "</style>\n",
       "<table border=\"1\" class=\"dataframe\">\n",
       "  <thead>\n",
       "    <tr style=\"text-align: right;\">\n",
       "      <th></th>\n",
       "      <th>messages_included</th>\n",
       "      <th>mb_per_month_included</th>\n",
       "      <th>minutes_included</th>\n",
       "      <th>rub_monthly_fee</th>\n",
       "      <th>rub_per_gb</th>\n",
       "      <th>rub_per_message</th>\n",
       "      <th>rub_per_minute</th>\n",
       "      <th>tariff_name</th>\n",
       "    </tr>\n",
       "  </thead>\n",
       "  <tbody>\n",
       "    <tr>\n",
       "      <td>0</td>\n",
       "      <td>50</td>\n",
       "      <td>15360</td>\n",
       "      <td>500</td>\n",
       "      <td>550</td>\n",
       "      <td>200</td>\n",
       "      <td>3</td>\n",
       "      <td>3</td>\n",
       "      <td>smart</td>\n",
       "    </tr>\n",
       "    <tr>\n",
       "      <td>1</td>\n",
       "      <td>1000</td>\n",
       "      <td>30720</td>\n",
       "      <td>3000</td>\n",
       "      <td>1950</td>\n",
       "      <td>150</td>\n",
       "      <td>1</td>\n",
       "      <td>1</td>\n",
       "      <td>ultra</td>\n",
       "    </tr>\n",
       "  </tbody>\n",
       "</table>\n",
       "</div>"
      ],
      "text/plain": [
       "   messages_included  mb_per_month_included  minutes_included  \\\n",
       "0                 50                  15360               500   \n",
       "1               1000                  30720              3000   \n",
       "\n",
       "   rub_monthly_fee  rub_per_gb  rub_per_message  rub_per_minute tariff_name  \n",
       "0              550         200                3               3       smart  \n",
       "1             1950         150                1               1       ultra  "
      ]
     },
     "execution_count": 59,
     "metadata": {},
     "output_type": "execute_result"
    }
   ],
   "source": [
    "data_tariffs.head(10)"
   ]
  },
  {
   "cell_type": "code",
   "execution_count": 60,
   "id": "8e0eb7fc",
   "metadata": {},
   "outputs": [],
   "source": [
    "def found_fee(tariff):\n",
    "    if tariff == 'ultra':\n",
    "        return 1950\n",
    "    if tariff == 'smart':\n",
    "        return 550"
   ]
  },
  {
   "cell_type": "code",
   "execution_count": 61,
   "id": "1d02f9b6",
   "metadata": {},
   "outputs": [],
   "source": [
    "data_next4['fee'] = data_next4['tariff'].apply(found_fee)"
   ]
  },
  {
   "cell_type": "code",
   "execution_count": 62,
   "id": "12f6022b",
   "metadata": {
    "scrolled": true
   },
   "outputs": [
    {
     "data": {
      "text/html": [
       "<div>\n",
       "<style scoped>\n",
       "    .dataframe tbody tr th:only-of-type {\n",
       "        vertical-align: middle;\n",
       "    }\n",
       "\n",
       "    .dataframe tbody tr th {\n",
       "        vertical-align: top;\n",
       "    }\n",
       "\n",
       "    .dataframe thead th {\n",
       "        text-align: right;\n",
       "    }\n",
       "</style>\n",
       "<table border=\"1\" class=\"dataframe\">\n",
       "  <thead>\n",
       "    <tr style=\"text-align: right;\">\n",
       "      <th></th>\n",
       "      <th></th>\n",
       "      <th>tariff</th>\n",
       "      <th>sms</th>\n",
       "      <th>call_min</th>\n",
       "      <th>mb_used</th>\n",
       "      <th>city</th>\n",
       "      <th>age</th>\n",
       "      <th>fee</th>\n",
       "    </tr>\n",
       "    <tr>\n",
       "      <th>user_id</th>\n",
       "      <th>month</th>\n",
       "      <th></th>\n",
       "      <th></th>\n",
       "      <th></th>\n",
       "      <th></th>\n",
       "      <th></th>\n",
       "      <th></th>\n",
       "      <th></th>\n",
       "    </tr>\n",
       "  </thead>\n",
       "  <tbody>\n",
       "    <tr>\n",
       "      <td rowspan=\"8\" valign=\"top\">1000</td>\n",
       "      <td>5</td>\n",
       "      <td>ultra</td>\n",
       "      <td>22.0</td>\n",
       "      <td>159.0</td>\n",
       "      <td>2253.49</td>\n",
       "      <td>Краснодар</td>\n",
       "      <td>52</td>\n",
       "      <td>1950</td>\n",
       "    </tr>\n",
       "    <tr>\n",
       "      <td>6</td>\n",
       "      <td>ultra</td>\n",
       "      <td>60.0</td>\n",
       "      <td>172.0</td>\n",
       "      <td>23233.77</td>\n",
       "      <td>Краснодар</td>\n",
       "      <td>52</td>\n",
       "      <td>1950</td>\n",
       "    </tr>\n",
       "    <tr>\n",
       "      <td>7</td>\n",
       "      <td>ultra</td>\n",
       "      <td>75.0</td>\n",
       "      <td>340.0</td>\n",
       "      <td>14003.64</td>\n",
       "      <td>Краснодар</td>\n",
       "      <td>52</td>\n",
       "      <td>1950</td>\n",
       "    </tr>\n",
       "    <tr>\n",
       "      <td>8</td>\n",
       "      <td>ultra</td>\n",
       "      <td>81.0</td>\n",
       "      <td>408.0</td>\n",
       "      <td>14055.93</td>\n",
       "      <td>Краснодар</td>\n",
       "      <td>52</td>\n",
       "      <td>1950</td>\n",
       "    </tr>\n",
       "    <tr>\n",
       "      <td>9</td>\n",
       "      <td>ultra</td>\n",
       "      <td>57.0</td>\n",
       "      <td>466.0</td>\n",
       "      <td>14568.91</td>\n",
       "      <td>Краснодар</td>\n",
       "      <td>52</td>\n",
       "      <td>1950</td>\n",
       "    </tr>\n",
       "    <tr>\n",
       "      <td>10</td>\n",
       "      <td>ultra</td>\n",
       "      <td>73.0</td>\n",
       "      <td>350.0</td>\n",
       "      <td>14702.49</td>\n",
       "      <td>Краснодар</td>\n",
       "      <td>52</td>\n",
       "      <td>1950</td>\n",
       "    </tr>\n",
       "    <tr>\n",
       "      <td>11</td>\n",
       "      <td>ultra</td>\n",
       "      <td>58.0</td>\n",
       "      <td>338.0</td>\n",
       "      <td>14756.47</td>\n",
       "      <td>Краснодар</td>\n",
       "      <td>52</td>\n",
       "      <td>1950</td>\n",
       "    </tr>\n",
       "    <tr>\n",
       "      <td>12</td>\n",
       "      <td>ultra</td>\n",
       "      <td>70.0</td>\n",
       "      <td>333.0</td>\n",
       "      <td>9817.61</td>\n",
       "      <td>Краснодар</td>\n",
       "      <td>52</td>\n",
       "      <td>1950</td>\n",
       "    </tr>\n",
       "    <tr>\n",
       "      <td rowspan=\"2\" valign=\"top\">1001</td>\n",
       "      <td>11</td>\n",
       "      <td>smart</td>\n",
       "      <td>0.0</td>\n",
       "      <td>0.0</td>\n",
       "      <td>18429.34</td>\n",
       "      <td>Москва</td>\n",
       "      <td>41</td>\n",
       "      <td>550</td>\n",
       "    </tr>\n",
       "    <tr>\n",
       "      <td>12</td>\n",
       "      <td>smart</td>\n",
       "      <td>0.0</td>\n",
       "      <td>0.0</td>\n",
       "      <td>14036.66</td>\n",
       "      <td>Москва</td>\n",
       "      <td>41</td>\n",
       "      <td>550</td>\n",
       "    </tr>\n",
       "  </tbody>\n",
       "</table>\n",
       "</div>"
      ],
      "text/plain": [
       "              tariff   sms  call_min   mb_used       city  age   fee\n",
       "user_id month                                                       \n",
       "1000    5      ultra  22.0     159.0   2253.49  Краснодар   52  1950\n",
       "        6      ultra  60.0     172.0  23233.77  Краснодар   52  1950\n",
       "        7      ultra  75.0     340.0  14003.64  Краснодар   52  1950\n",
       "        8      ultra  81.0     408.0  14055.93  Краснодар   52  1950\n",
       "        9      ultra  57.0     466.0  14568.91  Краснодар   52  1950\n",
       "        10     ultra  73.0     350.0  14702.49  Краснодар   52  1950\n",
       "        11     ultra  58.0     338.0  14756.47  Краснодар   52  1950\n",
       "        12     ultra  70.0     333.0   9817.61  Краснодар   52  1950\n",
       "1001    11     smart   0.0       0.0  18429.34     Москва   41   550\n",
       "        12     smart   0.0       0.0  14036.66     Москва   41   550"
      ]
     },
     "execution_count": 62,
     "metadata": {},
     "output_type": "execute_result"
    }
   ],
   "source": [
    "data_next4.head(10)"
   ]
  },
  {
   "cell_type": "code",
   "execution_count": 63,
   "id": "d9e2caf6",
   "metadata": {},
   "outputs": [],
   "source": [
    "def found_sms(row):\n",
    "    if row['tariff'] == 'ultra':\n",
    "        if row['sms'] > 1000:\n",
    "            sms_fee_money = row['fee'] + (row['sms'] - 1000)*1\n",
    "        if row['sms'] <= 1000:\n",
    "            sms_fee_money = row['fee']\n",
    "    if row['tariff'] == 'smart':\n",
    "        if row['sms'] > 50:\n",
    "            sms_fee_money = row['fee'] + (row['sms'] - 50)*3\n",
    "        if row['sms'] <= 50:\n",
    "            sms_fee_money = row['fee']\n",
    "    return sms_fee_money"
   ]
  },
  {
   "cell_type": "code",
   "execution_count": 64,
   "id": "961533f5",
   "metadata": {},
   "outputs": [],
   "source": [
    "data_next4['sms_fee_money'] = data_next4.apply(found_sms, axis=1)"
   ]
  },
  {
   "cell_type": "code",
   "execution_count": 65,
   "id": "23260a20",
   "metadata": {},
   "outputs": [
    {
     "data": {
      "text/html": [
       "<div>\n",
       "<style scoped>\n",
       "    .dataframe tbody tr th:only-of-type {\n",
       "        vertical-align: middle;\n",
       "    }\n",
       "\n",
       "    .dataframe tbody tr th {\n",
       "        vertical-align: top;\n",
       "    }\n",
       "\n",
       "    .dataframe thead th {\n",
       "        text-align: right;\n",
       "    }\n",
       "</style>\n",
       "<table border=\"1\" class=\"dataframe\">\n",
       "  <thead>\n",
       "    <tr style=\"text-align: right;\">\n",
       "      <th></th>\n",
       "      <th></th>\n",
       "      <th>tariff</th>\n",
       "      <th>sms</th>\n",
       "      <th>call_min</th>\n",
       "      <th>mb_used</th>\n",
       "      <th>city</th>\n",
       "      <th>age</th>\n",
       "      <th>fee</th>\n",
       "      <th>sms_fee_money</th>\n",
       "    </tr>\n",
       "    <tr>\n",
       "      <th>user_id</th>\n",
       "      <th>month</th>\n",
       "      <th></th>\n",
       "      <th></th>\n",
       "      <th></th>\n",
       "      <th></th>\n",
       "      <th></th>\n",
       "      <th></th>\n",
       "      <th></th>\n",
       "      <th></th>\n",
       "    </tr>\n",
       "  </thead>\n",
       "  <tbody>\n",
       "    <tr>\n",
       "      <td rowspan=\"8\" valign=\"top\">1000</td>\n",
       "      <td>5</td>\n",
       "      <td>ultra</td>\n",
       "      <td>22.0</td>\n",
       "      <td>159.0</td>\n",
       "      <td>2253.49</td>\n",
       "      <td>Краснодар</td>\n",
       "      <td>52</td>\n",
       "      <td>1950</td>\n",
       "      <td>1950.0</td>\n",
       "    </tr>\n",
       "    <tr>\n",
       "      <td>6</td>\n",
       "      <td>ultra</td>\n",
       "      <td>60.0</td>\n",
       "      <td>172.0</td>\n",
       "      <td>23233.77</td>\n",
       "      <td>Краснодар</td>\n",
       "      <td>52</td>\n",
       "      <td>1950</td>\n",
       "      <td>1950.0</td>\n",
       "    </tr>\n",
       "    <tr>\n",
       "      <td>7</td>\n",
       "      <td>ultra</td>\n",
       "      <td>75.0</td>\n",
       "      <td>340.0</td>\n",
       "      <td>14003.64</td>\n",
       "      <td>Краснодар</td>\n",
       "      <td>52</td>\n",
       "      <td>1950</td>\n",
       "      <td>1950.0</td>\n",
       "    </tr>\n",
       "    <tr>\n",
       "      <td>8</td>\n",
       "      <td>ultra</td>\n",
       "      <td>81.0</td>\n",
       "      <td>408.0</td>\n",
       "      <td>14055.93</td>\n",
       "      <td>Краснодар</td>\n",
       "      <td>52</td>\n",
       "      <td>1950</td>\n",
       "      <td>1950.0</td>\n",
       "    </tr>\n",
       "    <tr>\n",
       "      <td>9</td>\n",
       "      <td>ultra</td>\n",
       "      <td>57.0</td>\n",
       "      <td>466.0</td>\n",
       "      <td>14568.91</td>\n",
       "      <td>Краснодар</td>\n",
       "      <td>52</td>\n",
       "      <td>1950</td>\n",
       "      <td>1950.0</td>\n",
       "    </tr>\n",
       "    <tr>\n",
       "      <td>10</td>\n",
       "      <td>ultra</td>\n",
       "      <td>73.0</td>\n",
       "      <td>350.0</td>\n",
       "      <td>14702.49</td>\n",
       "      <td>Краснодар</td>\n",
       "      <td>52</td>\n",
       "      <td>1950</td>\n",
       "      <td>1950.0</td>\n",
       "    </tr>\n",
       "    <tr>\n",
       "      <td>11</td>\n",
       "      <td>ultra</td>\n",
       "      <td>58.0</td>\n",
       "      <td>338.0</td>\n",
       "      <td>14756.47</td>\n",
       "      <td>Краснодар</td>\n",
       "      <td>52</td>\n",
       "      <td>1950</td>\n",
       "      <td>1950.0</td>\n",
       "    </tr>\n",
       "    <tr>\n",
       "      <td>12</td>\n",
       "      <td>ultra</td>\n",
       "      <td>70.0</td>\n",
       "      <td>333.0</td>\n",
       "      <td>9817.61</td>\n",
       "      <td>Краснодар</td>\n",
       "      <td>52</td>\n",
       "      <td>1950</td>\n",
       "      <td>1950.0</td>\n",
       "    </tr>\n",
       "    <tr>\n",
       "      <td rowspan=\"2\" valign=\"top\">1001</td>\n",
       "      <td>11</td>\n",
       "      <td>smart</td>\n",
       "      <td>0.0</td>\n",
       "      <td>0.0</td>\n",
       "      <td>18429.34</td>\n",
       "      <td>Москва</td>\n",
       "      <td>41</td>\n",
       "      <td>550</td>\n",
       "      <td>550.0</td>\n",
       "    </tr>\n",
       "    <tr>\n",
       "      <td>12</td>\n",
       "      <td>smart</td>\n",
       "      <td>0.0</td>\n",
       "      <td>0.0</td>\n",
       "      <td>14036.66</td>\n",
       "      <td>Москва</td>\n",
       "      <td>41</td>\n",
       "      <td>550</td>\n",
       "      <td>550.0</td>\n",
       "    </tr>\n",
       "  </tbody>\n",
       "</table>\n",
       "</div>"
      ],
      "text/plain": [
       "              tariff   sms  call_min   mb_used       city  age   fee  \\\n",
       "user_id month                                                          \n",
       "1000    5      ultra  22.0     159.0   2253.49  Краснодар   52  1950   \n",
       "        6      ultra  60.0     172.0  23233.77  Краснодар   52  1950   \n",
       "        7      ultra  75.0     340.0  14003.64  Краснодар   52  1950   \n",
       "        8      ultra  81.0     408.0  14055.93  Краснодар   52  1950   \n",
       "        9      ultra  57.0     466.0  14568.91  Краснодар   52  1950   \n",
       "        10     ultra  73.0     350.0  14702.49  Краснодар   52  1950   \n",
       "        11     ultra  58.0     338.0  14756.47  Краснодар   52  1950   \n",
       "        12     ultra  70.0     333.0   9817.61  Краснодар   52  1950   \n",
       "1001    11     smart   0.0       0.0  18429.34     Москва   41   550   \n",
       "        12     smart   0.0       0.0  14036.66     Москва   41   550   \n",
       "\n",
       "               sms_fee_money  \n",
       "user_id month                 \n",
       "1000    5             1950.0  \n",
       "        6             1950.0  \n",
       "        7             1950.0  \n",
       "        8             1950.0  \n",
       "        9             1950.0  \n",
       "        10            1950.0  \n",
       "        11            1950.0  \n",
       "        12            1950.0  \n",
       "1001    11             550.0  \n",
       "        12             550.0  "
      ]
     },
     "execution_count": 65,
     "metadata": {},
     "output_type": "execute_result"
    }
   ],
   "source": [
    "data_next4.head(10)"
   ]
  },
  {
   "cell_type": "code",
   "execution_count": 66,
   "id": "043dc10e",
   "metadata": {},
   "outputs": [
    {
     "data": {
      "text/plain": [
       "550.0     1665\n",
       "1950.0     985\n",
       "553.0       24\n",
       "568.0       20\n",
       "598.0       20\n",
       "          ... \n",
       "775.0        1\n",
       "772.0        1\n",
       "808.0        1\n",
       "781.0        1\n",
       "829.0        1\n",
       "Name: sms_fee_money, Length: 75, dtype: int64"
      ]
     },
     "execution_count": 66,
     "metadata": {},
     "output_type": "execute_result"
    }
   ],
   "source": [
    "data_next4['sms_fee_money'].value_counts()"
   ]
  },
  {
   "cell_type": "code",
   "execution_count": 67,
   "id": "67670979",
   "metadata": {},
   "outputs": [],
   "source": [
    "def found_min(row):\n",
    "    if row['tariff'] == 'ultra':\n",
    "        if row['call_min'] > 3000:\n",
    "            s_f_m_money = row['sms_fee_money'] + (row['call_min'] - 3000)*1\n",
    "        if row['call_min'] <= 3000:\n",
    "            s_f_m_money = row['sms_fee_money']\n",
    "    if row['tariff'] == 'smart':\n",
    "        if row['call_min'] > 500:\n",
    "            s_f_m_money = row['sms_fee_money'] + (row['call_min'] - 500)*3\n",
    "        if row['call_min'] <= 500:\n",
    "            s_f_m_money = row['sms_fee_money']\n",
    "    return s_f_m_money"
   ]
  },
  {
   "cell_type": "code",
   "execution_count": 68,
   "id": "1f4cd137",
   "metadata": {},
   "outputs": [],
   "source": [
    "data_next4['s_f_m_money'] = data_next4.apply(found_sms, axis=1)"
   ]
  },
  {
   "cell_type": "code",
   "execution_count": 69,
   "id": "0cfd4749",
   "metadata": {},
   "outputs": [
    {
     "data": {
      "text/html": [
       "<div>\n",
       "<style scoped>\n",
       "    .dataframe tbody tr th:only-of-type {\n",
       "        vertical-align: middle;\n",
       "    }\n",
       "\n",
       "    .dataframe tbody tr th {\n",
       "        vertical-align: top;\n",
       "    }\n",
       "\n",
       "    .dataframe thead th {\n",
       "        text-align: right;\n",
       "    }\n",
       "</style>\n",
       "<table border=\"1\" class=\"dataframe\">\n",
       "  <thead>\n",
       "    <tr style=\"text-align: right;\">\n",
       "      <th></th>\n",
       "      <th></th>\n",
       "      <th>tariff</th>\n",
       "      <th>sms</th>\n",
       "      <th>call_min</th>\n",
       "      <th>mb_used</th>\n",
       "      <th>city</th>\n",
       "      <th>age</th>\n",
       "      <th>fee</th>\n",
       "      <th>sms_fee_money</th>\n",
       "      <th>s_f_m_money</th>\n",
       "    </tr>\n",
       "    <tr>\n",
       "      <th>user_id</th>\n",
       "      <th>month</th>\n",
       "      <th></th>\n",
       "      <th></th>\n",
       "      <th></th>\n",
       "      <th></th>\n",
       "      <th></th>\n",
       "      <th></th>\n",
       "      <th></th>\n",
       "      <th></th>\n",
       "      <th></th>\n",
       "    </tr>\n",
       "  </thead>\n",
       "  <tbody>\n",
       "    <tr>\n",
       "      <td rowspan=\"8\" valign=\"top\">1000</td>\n",
       "      <td>5</td>\n",
       "      <td>ultra</td>\n",
       "      <td>22.0</td>\n",
       "      <td>159.0</td>\n",
       "      <td>2253.49</td>\n",
       "      <td>Краснодар</td>\n",
       "      <td>52</td>\n",
       "      <td>1950</td>\n",
       "      <td>1950.0</td>\n",
       "      <td>1950.0</td>\n",
       "    </tr>\n",
       "    <tr>\n",
       "      <td>6</td>\n",
       "      <td>ultra</td>\n",
       "      <td>60.0</td>\n",
       "      <td>172.0</td>\n",
       "      <td>23233.77</td>\n",
       "      <td>Краснодар</td>\n",
       "      <td>52</td>\n",
       "      <td>1950</td>\n",
       "      <td>1950.0</td>\n",
       "      <td>1950.0</td>\n",
       "    </tr>\n",
       "    <tr>\n",
       "      <td>7</td>\n",
       "      <td>ultra</td>\n",
       "      <td>75.0</td>\n",
       "      <td>340.0</td>\n",
       "      <td>14003.64</td>\n",
       "      <td>Краснодар</td>\n",
       "      <td>52</td>\n",
       "      <td>1950</td>\n",
       "      <td>1950.0</td>\n",
       "      <td>1950.0</td>\n",
       "    </tr>\n",
       "    <tr>\n",
       "      <td>8</td>\n",
       "      <td>ultra</td>\n",
       "      <td>81.0</td>\n",
       "      <td>408.0</td>\n",
       "      <td>14055.93</td>\n",
       "      <td>Краснодар</td>\n",
       "      <td>52</td>\n",
       "      <td>1950</td>\n",
       "      <td>1950.0</td>\n",
       "      <td>1950.0</td>\n",
       "    </tr>\n",
       "    <tr>\n",
       "      <td>9</td>\n",
       "      <td>ultra</td>\n",
       "      <td>57.0</td>\n",
       "      <td>466.0</td>\n",
       "      <td>14568.91</td>\n",
       "      <td>Краснодар</td>\n",
       "      <td>52</td>\n",
       "      <td>1950</td>\n",
       "      <td>1950.0</td>\n",
       "      <td>1950.0</td>\n",
       "    </tr>\n",
       "    <tr>\n",
       "      <td>10</td>\n",
       "      <td>ultra</td>\n",
       "      <td>73.0</td>\n",
       "      <td>350.0</td>\n",
       "      <td>14702.49</td>\n",
       "      <td>Краснодар</td>\n",
       "      <td>52</td>\n",
       "      <td>1950</td>\n",
       "      <td>1950.0</td>\n",
       "      <td>1950.0</td>\n",
       "    </tr>\n",
       "    <tr>\n",
       "      <td>11</td>\n",
       "      <td>ultra</td>\n",
       "      <td>58.0</td>\n",
       "      <td>338.0</td>\n",
       "      <td>14756.47</td>\n",
       "      <td>Краснодар</td>\n",
       "      <td>52</td>\n",
       "      <td>1950</td>\n",
       "      <td>1950.0</td>\n",
       "      <td>1950.0</td>\n",
       "    </tr>\n",
       "    <tr>\n",
       "      <td>12</td>\n",
       "      <td>ultra</td>\n",
       "      <td>70.0</td>\n",
       "      <td>333.0</td>\n",
       "      <td>9817.61</td>\n",
       "      <td>Краснодар</td>\n",
       "      <td>52</td>\n",
       "      <td>1950</td>\n",
       "      <td>1950.0</td>\n",
       "      <td>1950.0</td>\n",
       "    </tr>\n",
       "    <tr>\n",
       "      <td rowspan=\"2\" valign=\"top\">1001</td>\n",
       "      <td>11</td>\n",
       "      <td>smart</td>\n",
       "      <td>0.0</td>\n",
       "      <td>0.0</td>\n",
       "      <td>18429.34</td>\n",
       "      <td>Москва</td>\n",
       "      <td>41</td>\n",
       "      <td>550</td>\n",
       "      <td>550.0</td>\n",
       "      <td>550.0</td>\n",
       "    </tr>\n",
       "    <tr>\n",
       "      <td>12</td>\n",
       "      <td>smart</td>\n",
       "      <td>0.0</td>\n",
       "      <td>0.0</td>\n",
       "      <td>14036.66</td>\n",
       "      <td>Москва</td>\n",
       "      <td>41</td>\n",
       "      <td>550</td>\n",
       "      <td>550.0</td>\n",
       "      <td>550.0</td>\n",
       "    </tr>\n",
       "  </tbody>\n",
       "</table>\n",
       "</div>"
      ],
      "text/plain": [
       "              tariff   sms  call_min   mb_used       city  age   fee  \\\n",
       "user_id month                                                          \n",
       "1000    5      ultra  22.0     159.0   2253.49  Краснодар   52  1950   \n",
       "        6      ultra  60.0     172.0  23233.77  Краснодар   52  1950   \n",
       "        7      ultra  75.0     340.0  14003.64  Краснодар   52  1950   \n",
       "        8      ultra  81.0     408.0  14055.93  Краснодар   52  1950   \n",
       "        9      ultra  57.0     466.0  14568.91  Краснодар   52  1950   \n",
       "        10     ultra  73.0     350.0  14702.49  Краснодар   52  1950   \n",
       "        11     ultra  58.0     338.0  14756.47  Краснодар   52  1950   \n",
       "        12     ultra  70.0     333.0   9817.61  Краснодар   52  1950   \n",
       "1001    11     smart   0.0       0.0  18429.34     Москва   41   550   \n",
       "        12     smart   0.0       0.0  14036.66     Москва   41   550   \n",
       "\n",
       "               sms_fee_money  s_f_m_money  \n",
       "user_id month                              \n",
       "1000    5             1950.0       1950.0  \n",
       "        6             1950.0       1950.0  \n",
       "        7             1950.0       1950.0  \n",
       "        8             1950.0       1950.0  \n",
       "        9             1950.0       1950.0  \n",
       "        10            1950.0       1950.0  \n",
       "        11            1950.0       1950.0  \n",
       "        12            1950.0       1950.0  \n",
       "1001    11             550.0        550.0  \n",
       "        12             550.0        550.0  "
      ]
     },
     "execution_count": 69,
     "metadata": {},
     "output_type": "execute_result"
    }
   ],
   "source": [
    "data_next4.head(10)"
   ]
  },
  {
   "cell_type": "code",
   "execution_count": 70,
   "id": "dd9921b1",
   "metadata": {},
   "outputs": [],
   "source": [
    "data_next4['gb_used'] = data_next4['mb_used'] / 1024"
   ]
  },
  {
   "cell_type": "code",
   "execution_count": 71,
   "id": "82120d42",
   "metadata": {},
   "outputs": [
    {
     "data": {
      "text/html": [
       "<div>\n",
       "<style scoped>\n",
       "    .dataframe tbody tr th:only-of-type {\n",
       "        vertical-align: middle;\n",
       "    }\n",
       "\n",
       "    .dataframe tbody tr th {\n",
       "        vertical-align: top;\n",
       "    }\n",
       "\n",
       "    .dataframe thead th {\n",
       "        text-align: right;\n",
       "    }\n",
       "</style>\n",
       "<table border=\"1\" class=\"dataframe\">\n",
       "  <thead>\n",
       "    <tr style=\"text-align: right;\">\n",
       "      <th></th>\n",
       "      <th></th>\n",
       "      <th>tariff</th>\n",
       "      <th>sms</th>\n",
       "      <th>call_min</th>\n",
       "      <th>mb_used</th>\n",
       "      <th>city</th>\n",
       "      <th>age</th>\n",
       "      <th>fee</th>\n",
       "      <th>sms_fee_money</th>\n",
       "      <th>s_f_m_money</th>\n",
       "      <th>gb_used</th>\n",
       "    </tr>\n",
       "    <tr>\n",
       "      <th>user_id</th>\n",
       "      <th>month</th>\n",
       "      <th></th>\n",
       "      <th></th>\n",
       "      <th></th>\n",
       "      <th></th>\n",
       "      <th></th>\n",
       "      <th></th>\n",
       "      <th></th>\n",
       "      <th></th>\n",
       "      <th></th>\n",
       "      <th></th>\n",
       "    </tr>\n",
       "  </thead>\n",
       "  <tbody>\n",
       "    <tr>\n",
       "      <td rowspan=\"8\" valign=\"top\">1000</td>\n",
       "      <td>5</td>\n",
       "      <td>ultra</td>\n",
       "      <td>22.0</td>\n",
       "      <td>159.0</td>\n",
       "      <td>2253.49</td>\n",
       "      <td>Краснодар</td>\n",
       "      <td>52</td>\n",
       "      <td>1950</td>\n",
       "      <td>1950.0</td>\n",
       "      <td>1950.0</td>\n",
       "      <td>2.200674</td>\n",
       "    </tr>\n",
       "    <tr>\n",
       "      <td>6</td>\n",
       "      <td>ultra</td>\n",
       "      <td>60.0</td>\n",
       "      <td>172.0</td>\n",
       "      <td>23233.77</td>\n",
       "      <td>Краснодар</td>\n",
       "      <td>52</td>\n",
       "      <td>1950</td>\n",
       "      <td>1950.0</td>\n",
       "      <td>1950.0</td>\n",
       "      <td>22.689229</td>\n",
       "    </tr>\n",
       "    <tr>\n",
       "      <td>7</td>\n",
       "      <td>ultra</td>\n",
       "      <td>75.0</td>\n",
       "      <td>340.0</td>\n",
       "      <td>14003.64</td>\n",
       "      <td>Краснодар</td>\n",
       "      <td>52</td>\n",
       "      <td>1950</td>\n",
       "      <td>1950.0</td>\n",
       "      <td>1950.0</td>\n",
       "      <td>13.675430</td>\n",
       "    </tr>\n",
       "    <tr>\n",
       "      <td>8</td>\n",
       "      <td>ultra</td>\n",
       "      <td>81.0</td>\n",
       "      <td>408.0</td>\n",
       "      <td>14055.93</td>\n",
       "      <td>Краснодар</td>\n",
       "      <td>52</td>\n",
       "      <td>1950</td>\n",
       "      <td>1950.0</td>\n",
       "      <td>1950.0</td>\n",
       "      <td>13.726494</td>\n",
       "    </tr>\n",
       "    <tr>\n",
       "      <td>9</td>\n",
       "      <td>ultra</td>\n",
       "      <td>57.0</td>\n",
       "      <td>466.0</td>\n",
       "      <td>14568.91</td>\n",
       "      <td>Краснодар</td>\n",
       "      <td>52</td>\n",
       "      <td>1950</td>\n",
       "      <td>1950.0</td>\n",
       "      <td>1950.0</td>\n",
       "      <td>14.227451</td>\n",
       "    </tr>\n",
       "    <tr>\n",
       "      <td>10</td>\n",
       "      <td>ultra</td>\n",
       "      <td>73.0</td>\n",
       "      <td>350.0</td>\n",
       "      <td>14702.49</td>\n",
       "      <td>Краснодар</td>\n",
       "      <td>52</td>\n",
       "      <td>1950</td>\n",
       "      <td>1950.0</td>\n",
       "      <td>1950.0</td>\n",
       "      <td>14.357900</td>\n",
       "    </tr>\n",
       "    <tr>\n",
       "      <td>11</td>\n",
       "      <td>ultra</td>\n",
       "      <td>58.0</td>\n",
       "      <td>338.0</td>\n",
       "      <td>14756.47</td>\n",
       "      <td>Краснодар</td>\n",
       "      <td>52</td>\n",
       "      <td>1950</td>\n",
       "      <td>1950.0</td>\n",
       "      <td>1950.0</td>\n",
       "      <td>14.410615</td>\n",
       "    </tr>\n",
       "    <tr>\n",
       "      <td>12</td>\n",
       "      <td>ultra</td>\n",
       "      <td>70.0</td>\n",
       "      <td>333.0</td>\n",
       "      <td>9817.61</td>\n",
       "      <td>Краснодар</td>\n",
       "      <td>52</td>\n",
       "      <td>1950</td>\n",
       "      <td>1950.0</td>\n",
       "      <td>1950.0</td>\n",
       "      <td>9.587510</td>\n",
       "    </tr>\n",
       "    <tr>\n",
       "      <td rowspan=\"2\" valign=\"top\">1001</td>\n",
       "      <td>11</td>\n",
       "      <td>smart</td>\n",
       "      <td>0.0</td>\n",
       "      <td>0.0</td>\n",
       "      <td>18429.34</td>\n",
       "      <td>Москва</td>\n",
       "      <td>41</td>\n",
       "      <td>550</td>\n",
       "      <td>550.0</td>\n",
       "      <td>550.0</td>\n",
       "      <td>17.997402</td>\n",
       "    </tr>\n",
       "    <tr>\n",
       "      <td>12</td>\n",
       "      <td>smart</td>\n",
       "      <td>0.0</td>\n",
       "      <td>0.0</td>\n",
       "      <td>14036.66</td>\n",
       "      <td>Москва</td>\n",
       "      <td>41</td>\n",
       "      <td>550</td>\n",
       "      <td>550.0</td>\n",
       "      <td>550.0</td>\n",
       "      <td>13.707676</td>\n",
       "    </tr>\n",
       "  </tbody>\n",
       "</table>\n",
       "</div>"
      ],
      "text/plain": [
       "              tariff   sms  call_min   mb_used       city  age   fee  \\\n",
       "user_id month                                                          \n",
       "1000    5      ultra  22.0     159.0   2253.49  Краснодар   52  1950   \n",
       "        6      ultra  60.0     172.0  23233.77  Краснодар   52  1950   \n",
       "        7      ultra  75.0     340.0  14003.64  Краснодар   52  1950   \n",
       "        8      ultra  81.0     408.0  14055.93  Краснодар   52  1950   \n",
       "        9      ultra  57.0     466.0  14568.91  Краснодар   52  1950   \n",
       "        10     ultra  73.0     350.0  14702.49  Краснодар   52  1950   \n",
       "        11     ultra  58.0     338.0  14756.47  Краснодар   52  1950   \n",
       "        12     ultra  70.0     333.0   9817.61  Краснодар   52  1950   \n",
       "1001    11     smart   0.0       0.0  18429.34     Москва   41   550   \n",
       "        12     smart   0.0       0.0  14036.66     Москва   41   550   \n",
       "\n",
       "               sms_fee_money  s_f_m_money    gb_used  \n",
       "user_id month                                         \n",
       "1000    5             1950.0       1950.0   2.200674  \n",
       "        6             1950.0       1950.0  22.689229  \n",
       "        7             1950.0       1950.0  13.675430  \n",
       "        8             1950.0       1950.0  13.726494  \n",
       "        9             1950.0       1950.0  14.227451  \n",
       "        10            1950.0       1950.0  14.357900  \n",
       "        11            1950.0       1950.0  14.410615  \n",
       "        12            1950.0       1950.0   9.587510  \n",
       "1001    11             550.0        550.0  17.997402  \n",
       "        12             550.0        550.0  13.707676  "
      ]
     },
     "execution_count": 71,
     "metadata": {},
     "output_type": "execute_result"
    }
   ],
   "source": [
    "data_next4.head(10)"
   ]
  },
  {
   "cell_type": "code",
   "execution_count": 72,
   "id": "4af44142",
   "metadata": {},
   "outputs": [],
   "source": [
    "data_next4['gb_used'] = data_next4['gb_used'].apply(math.ceil)"
   ]
  },
  {
   "cell_type": "code",
   "execution_count": 73,
   "id": "b47d963a",
   "metadata": {},
   "outputs": [],
   "source": [
    "def found_gb(row):\n",
    "    if row['tariff'] == 'ultra':\n",
    "        if row['gb_used'] > 30.72:\n",
    "            money = row['s_f_m_money'] + (row['gb_used'] - 30.72) * 150\n",
    "        if row['gb_used'] < 30.72:  \n",
    "            money = row['s_f_m_money']\n",
    "    if row['tariff'] == 'smart':\n",
    "        if row['gb_used'] > 15.36:\n",
    "            money = row['s_f_m_money'] + (row['gb_used'] - 15.36) * 200 \n",
    "        if row['gb_used'] < 15.36:  \n",
    "            money = row['s_f_m_money']\n",
    "    return money\n"
   ]
  },
  {
   "cell_type": "code",
   "execution_count": 74,
   "id": "0cf4bc82",
   "metadata": {},
   "outputs": [],
   "source": [
    "data_next4['money'] = data_next4.apply(found_gb, axis=1)"
   ]
  },
  {
   "cell_type": "code",
   "execution_count": 75,
   "id": "5b733bcb",
   "metadata": {
    "scrolled": true
   },
   "outputs": [
    {
     "data": {
      "text/html": [
       "<div>\n",
       "<style scoped>\n",
       "    .dataframe tbody tr th:only-of-type {\n",
       "        vertical-align: middle;\n",
       "    }\n",
       "\n",
       "    .dataframe tbody tr th {\n",
       "        vertical-align: top;\n",
       "    }\n",
       "\n",
       "    .dataframe thead th {\n",
       "        text-align: right;\n",
       "    }\n",
       "</style>\n",
       "<table border=\"1\" class=\"dataframe\">\n",
       "  <thead>\n",
       "    <tr style=\"text-align: right;\">\n",
       "      <th></th>\n",
       "      <th></th>\n",
       "      <th>tariff</th>\n",
       "      <th>sms</th>\n",
       "      <th>call_min</th>\n",
       "      <th>mb_used</th>\n",
       "      <th>city</th>\n",
       "      <th>age</th>\n",
       "      <th>fee</th>\n",
       "      <th>sms_fee_money</th>\n",
       "      <th>s_f_m_money</th>\n",
       "      <th>gb_used</th>\n",
       "      <th>money</th>\n",
       "    </tr>\n",
       "    <tr>\n",
       "      <th>user_id</th>\n",
       "      <th>month</th>\n",
       "      <th></th>\n",
       "      <th></th>\n",
       "      <th></th>\n",
       "      <th></th>\n",
       "      <th></th>\n",
       "      <th></th>\n",
       "      <th></th>\n",
       "      <th></th>\n",
       "      <th></th>\n",
       "      <th></th>\n",
       "      <th></th>\n",
       "    </tr>\n",
       "  </thead>\n",
       "  <tbody>\n",
       "    <tr>\n",
       "      <td rowspan=\"8\" valign=\"top\">1000</td>\n",
       "      <td>5</td>\n",
       "      <td>ultra</td>\n",
       "      <td>22.0</td>\n",
       "      <td>159.0</td>\n",
       "      <td>2253.49</td>\n",
       "      <td>Краснодар</td>\n",
       "      <td>52</td>\n",
       "      <td>1950</td>\n",
       "      <td>1950.0</td>\n",
       "      <td>1950.0</td>\n",
       "      <td>3</td>\n",
       "      <td>1950.0</td>\n",
       "    </tr>\n",
       "    <tr>\n",
       "      <td>6</td>\n",
       "      <td>ultra</td>\n",
       "      <td>60.0</td>\n",
       "      <td>172.0</td>\n",
       "      <td>23233.77</td>\n",
       "      <td>Краснодар</td>\n",
       "      <td>52</td>\n",
       "      <td>1950</td>\n",
       "      <td>1950.0</td>\n",
       "      <td>1950.0</td>\n",
       "      <td>23</td>\n",
       "      <td>1950.0</td>\n",
       "    </tr>\n",
       "    <tr>\n",
       "      <td>7</td>\n",
       "      <td>ultra</td>\n",
       "      <td>75.0</td>\n",
       "      <td>340.0</td>\n",
       "      <td>14003.64</td>\n",
       "      <td>Краснодар</td>\n",
       "      <td>52</td>\n",
       "      <td>1950</td>\n",
       "      <td>1950.0</td>\n",
       "      <td>1950.0</td>\n",
       "      <td>14</td>\n",
       "      <td>1950.0</td>\n",
       "    </tr>\n",
       "    <tr>\n",
       "      <td>8</td>\n",
       "      <td>ultra</td>\n",
       "      <td>81.0</td>\n",
       "      <td>408.0</td>\n",
       "      <td>14055.93</td>\n",
       "      <td>Краснодар</td>\n",
       "      <td>52</td>\n",
       "      <td>1950</td>\n",
       "      <td>1950.0</td>\n",
       "      <td>1950.0</td>\n",
       "      <td>14</td>\n",
       "      <td>1950.0</td>\n",
       "    </tr>\n",
       "    <tr>\n",
       "      <td>9</td>\n",
       "      <td>ultra</td>\n",
       "      <td>57.0</td>\n",
       "      <td>466.0</td>\n",
       "      <td>14568.91</td>\n",
       "      <td>Краснодар</td>\n",
       "      <td>52</td>\n",
       "      <td>1950</td>\n",
       "      <td>1950.0</td>\n",
       "      <td>1950.0</td>\n",
       "      <td>15</td>\n",
       "      <td>1950.0</td>\n",
       "    </tr>\n",
       "    <tr>\n",
       "      <td>10</td>\n",
       "      <td>ultra</td>\n",
       "      <td>73.0</td>\n",
       "      <td>350.0</td>\n",
       "      <td>14702.49</td>\n",
       "      <td>Краснодар</td>\n",
       "      <td>52</td>\n",
       "      <td>1950</td>\n",
       "      <td>1950.0</td>\n",
       "      <td>1950.0</td>\n",
       "      <td>15</td>\n",
       "      <td>1950.0</td>\n",
       "    </tr>\n",
       "    <tr>\n",
       "      <td>11</td>\n",
       "      <td>ultra</td>\n",
       "      <td>58.0</td>\n",
       "      <td>338.0</td>\n",
       "      <td>14756.47</td>\n",
       "      <td>Краснодар</td>\n",
       "      <td>52</td>\n",
       "      <td>1950</td>\n",
       "      <td>1950.0</td>\n",
       "      <td>1950.0</td>\n",
       "      <td>15</td>\n",
       "      <td>1950.0</td>\n",
       "    </tr>\n",
       "    <tr>\n",
       "      <td>12</td>\n",
       "      <td>ultra</td>\n",
       "      <td>70.0</td>\n",
       "      <td>333.0</td>\n",
       "      <td>9817.61</td>\n",
       "      <td>Краснодар</td>\n",
       "      <td>52</td>\n",
       "      <td>1950</td>\n",
       "      <td>1950.0</td>\n",
       "      <td>1950.0</td>\n",
       "      <td>10</td>\n",
       "      <td>1950.0</td>\n",
       "    </tr>\n",
       "    <tr>\n",
       "      <td rowspan=\"2\" valign=\"top\">1001</td>\n",
       "      <td>11</td>\n",
       "      <td>smart</td>\n",
       "      <td>0.0</td>\n",
       "      <td>0.0</td>\n",
       "      <td>18429.34</td>\n",
       "      <td>Москва</td>\n",
       "      <td>41</td>\n",
       "      <td>550</td>\n",
       "      <td>550.0</td>\n",
       "      <td>550.0</td>\n",
       "      <td>18</td>\n",
       "      <td>1078.0</td>\n",
       "    </tr>\n",
       "    <tr>\n",
       "      <td>12</td>\n",
       "      <td>smart</td>\n",
       "      <td>0.0</td>\n",
       "      <td>0.0</td>\n",
       "      <td>14036.66</td>\n",
       "      <td>Москва</td>\n",
       "      <td>41</td>\n",
       "      <td>550</td>\n",
       "      <td>550.0</td>\n",
       "      <td>550.0</td>\n",
       "      <td>14</td>\n",
       "      <td>550.0</td>\n",
       "    </tr>\n",
       "  </tbody>\n",
       "</table>\n",
       "</div>"
      ],
      "text/plain": [
       "              tariff   sms  call_min   mb_used       city  age   fee  \\\n",
       "user_id month                                                          \n",
       "1000    5      ultra  22.0     159.0   2253.49  Краснодар   52  1950   \n",
       "        6      ultra  60.0     172.0  23233.77  Краснодар   52  1950   \n",
       "        7      ultra  75.0     340.0  14003.64  Краснодар   52  1950   \n",
       "        8      ultra  81.0     408.0  14055.93  Краснодар   52  1950   \n",
       "        9      ultra  57.0     466.0  14568.91  Краснодар   52  1950   \n",
       "        10     ultra  73.0     350.0  14702.49  Краснодар   52  1950   \n",
       "        11     ultra  58.0     338.0  14756.47  Краснодар   52  1950   \n",
       "        12     ultra  70.0     333.0   9817.61  Краснодар   52  1950   \n",
       "1001    11     smart   0.0       0.0  18429.34     Москва   41   550   \n",
       "        12     smart   0.0       0.0  14036.66     Москва   41   550   \n",
       "\n",
       "               sms_fee_money  s_f_m_money  gb_used   money  \n",
       "user_id month                                               \n",
       "1000    5             1950.0       1950.0        3  1950.0  \n",
       "        6             1950.0       1950.0       23  1950.0  \n",
       "        7             1950.0       1950.0       14  1950.0  \n",
       "        8             1950.0       1950.0       14  1950.0  \n",
       "        9             1950.0       1950.0       15  1950.0  \n",
       "        10            1950.0       1950.0       15  1950.0  \n",
       "        11            1950.0       1950.0       15  1950.0  \n",
       "        12            1950.0       1950.0       10  1950.0  \n",
       "1001    11             550.0        550.0       18  1078.0  \n",
       "        12             550.0        550.0       14   550.0  "
      ]
     },
     "execution_count": 75,
     "metadata": {},
     "output_type": "execute_result"
    }
   ],
   "source": [
    "data_next4.head(10)"
   ]
  },
  {
   "cell_type": "markdown",
   "id": "a4b60211",
   "metadata": {},
   "source": [
    "## 3. Проанализируем данные"
   ]
  },
  {
   "cell_type": "markdown",
   "id": "045d9065",
   "metadata": {},
   "source": [
    "### 3.1 Минуты разговора"
   ]
  },
  {
   "cell_type": "code",
   "execution_count": 76,
   "id": "fdf24895",
   "metadata": {},
   "outputs": [
    {
     "name": "stdout",
     "output_type": "stream",
     "text": [
      "427.38578680203045\n"
     ]
    }
   ],
   "source": [
    "data_next_ultra = data_next4.query('tariff == \"ultra\"')\n",
    "min_ultra_mean = data_next_ultra['call_min'].mean()\n",
    "print(min_ultra_mean) #Среднее кол-во минут, выговариваемых на тарифе ультра"
   ]
  },
  {
   "cell_type": "code",
   "execution_count": 77,
   "id": "b8b80f57",
   "metadata": {},
   "outputs": [
    {
     "name": "stdout",
     "output_type": "stream",
     "text": [
      "361.7460744728578\n"
     ]
    }
   ],
   "source": [
    "data_next_smart = data_next4.query('tariff == \"smart\"')\n",
    "min_smart_mean = data_next_smart['call_min'].mean()\n",
    "print(min_smart_mean) #Среднее кол-во минут, выговариваемых на тарифе смарт"
   ]
  },
  {
   "cell_type": "code",
   "execution_count": 78,
   "id": "1bdee775",
   "metadata": {},
   "outputs": [
    {
     "name": "stdout",
     "output_type": "stream",
     "text": [
      "128794.3831482388\n"
     ]
    }
   ],
   "source": [
    "import numpy as np\n",
    "\n",
    "\n",
    "\n",
    "min_var_ultra = np.var(data_next_ultra['call_min'])\n",
    "print(min_var_ultra) #Дисперсия минут на тарифе ультра"
   ]
  },
  {
   "cell_type": "code",
   "execution_count": 79,
   "id": "23423413",
   "metadata": {},
   "outputs": [
    {
     "name": "stdout",
     "output_type": "stream",
     "text": [
      "51695.77670621428\n"
     ]
    }
   ],
   "source": [
    "min_var_smart = np.var(data_next_smart['call_min'])\n",
    "print(min_var_smart) #Дисперсия минут на тарифе smart"
   ]
  },
  {
   "cell_type": "code",
   "execution_count": 80,
   "id": "4905dc93",
   "metadata": {},
   "outputs": [
    {
     "name": "stdout",
     "output_type": "stream",
     "text": [
      "358.87934344043657\n"
     ]
    }
   ],
   "source": [
    "min_std_ultra = np.std(data_next_ultra['call_min'])\n",
    "print(min_std_ultra) #Среднее отклонение минут на тарифе ультра"
   ]
  },
  {
   "cell_type": "code",
   "execution_count": 81,
   "id": "e2b76581",
   "metadata": {},
   "outputs": [
    {
     "name": "stdout",
     "output_type": "stream",
     "text": [
      "227.3670528159572\n"
     ]
    }
   ],
   "source": [
    "min_std_smart = np.std(data_next_smart['call_min'])\n",
    "print(min_std_smart) #Среднее отклонение минут на тарифе smart"
   ]
  },
  {
   "cell_type": "code",
   "execution_count": 82,
   "id": "da1539bc",
   "metadata": {},
   "outputs": [
    {
     "name": "stdout",
     "output_type": "stream",
     "text": [
      "График минут разгвора в месяц на тарифе \"ультра\"\n",
      "Ось \"х\" - кол-во минут разговра в месяц\n",
      "Ось \"у\" - кол-во клиентов\n"
     ]
    },
    {
     "data": {
      "image/png": "[encoded data removed]",
      "text/plain": [
       "<Figure size 432x288 with 1 Axes>"
      ]
     },
     "metadata": {
      "needs_background": "light"
     },
     "output_type": "display_data"
    }
   ],
   "source": [
    "data_next_ultra['call_min'].hist(bins=15)\n",
    "print('График минут разгвора в месяц на тарифе \"ультра\"')\n",
    "print('Ось \"х\" - кол-во минут разговра в месяц')\n",
    "print('Ось \"у\" - кол-во клиентов')"
   ]
  },
  {
   "cell_type": "code",
   "execution_count": 83,
   "id": "1711024f",
   "metadata": {},
   "outputs": [
    {
     "name": "stdout",
     "output_type": "stream",
     "text": [
      "График минут разгвора в месяц на тарифе \"смарт\"\n",
      "Ось \"х\" - кол-во минут разговра в месяц\n",
      "Ось \"у\" - кол-во клиентов\n"
     ]
    },
    {
     "data": {
      "image/png": "[encoded data removed]",
      "text/plain": [
       "<Figure size 432x288 with 1 Axes>"
      ]
     },
     "metadata": {
      "needs_background": "light"
     },
     "output_type": "display_data"
    }
   ],
   "source": [
    "data_next_smart['call_min'].hist(bins=25)\n",
    "print('График минут разгвора в месяц на тарифе \"смарт\"')\n",
    "print('Ось \"х\" - кол-во минут разговра в месяц')\n",
    "print('Ось \"у\" - кол-во клиентов')"
   ]
  },
  {
   "cell_type": "markdown",
   "id": "95fe8dc7",
   "metadata": {},
   "source": [
    "#### Вывод"
   ]
  },
  {
   "cell_type": "markdown",
   "id": "7bd8337a",
   "metadata": {},
   "source": [
    "На тарифе смарт видим нормальное распределение, с еденичными выбросами в районе 1400 мин...видимо этим клиентам нужно поменять свой тариф.\n",
    "На тарифе ультра распределение более равномерное, среднее смещено вправо, тариф для тех кто говорит по телефону больше, так что все логично!"
   ]
  },
  {
   "cell_type": "markdown",
   "id": "99801468",
   "metadata": {},
   "source": [
    "### 3.2 Кол-во сообщений"
   ]
  },
  {
   "cell_type": "code",
   "execution_count": 84,
   "id": "7cc02da8",
   "metadata": {},
   "outputs": [
    {
     "name": "stdout",
     "output_type": "stream",
     "text": [
      "49.36345177664975\n"
     ]
    }
   ],
   "source": [
    "sms_ultra_mean = data_next_ultra['sms'].mean()\n",
    "print(sms_ultra_mean) #Среднее кол-во смс, отправляемых на тарифе ультра"
   ]
  },
  {
   "cell_type": "code",
   "execution_count": 85,
   "id": "455b60a0",
   "metadata": {},
   "outputs": [
    {
     "name": "stdout",
     "output_type": "stream",
     "text": [
      "33.384028712427096\n"
     ]
    }
   ],
   "source": [
    "sms_smart_mean = data_next_smart['sms'].mean()\n",
    "print(sms_smart_mean) #Среднее кол-во смс, отправляемых на тарифе смарт"
   ]
  },
  {
   "cell_type": "code",
   "execution_count": 86,
   "id": "b55cfff5",
   "metadata": {},
   "outputs": [
    {
     "name": "stdout",
     "output_type": "stream",
     "text": [
      "2282.9460753948824\n"
     ]
    }
   ],
   "source": [
    "\n",
    "sms_var_ultra = np.var(data_next_ultra['sms'])\n",
    "print(sms_var_ultra) #Дисперсия смс на тарифе ультра\n"
   ]
  },
  {
   "cell_type": "code",
   "execution_count": 87,
   "id": "9fe30c22",
   "metadata": {},
   "outputs": [
    {
     "name": "stdout",
     "output_type": "stream",
     "text": [
      "796.455482917076\n"
     ]
    }
   ],
   "source": [
    "sms_var_smart = np.var(data_next_smart['sms'])\n",
    "print(sms_var_smart) #Дисперсия смс на тарифе smart"
   ]
  },
  {
   "cell_type": "code",
   "execution_count": 88,
   "id": "91fa07b1",
   "metadata": {},
   "outputs": [
    {
     "name": "stdout",
     "output_type": "stream",
     "text": [
      "47.78018496610161\n"
     ]
    }
   ],
   "source": [
    "sms_std_ultra = np.std(data_next_ultra['sms'])\n",
    "print(sms_std_ultra) #Среднее отклонение смс на тарифе ультра"
   ]
  },
  {
   "cell_type": "code",
   "execution_count": 89,
   "id": "9a31b996",
   "metadata": {},
   "outputs": [
    {
     "name": "stdout",
     "output_type": "stream",
     "text": [
      "28.221542886898938\n"
     ]
    }
   ],
   "source": [
    "sms_std_smart = np.std(data_next_smart['sms'])\n",
    "print(sms_std_smart) #Среднее отклонение смс на тарифе smart"
   ]
  },
  {
   "cell_type": "code",
   "execution_count": 90,
   "id": "cc48f2ef",
   "metadata": {},
   "outputs": [
    {
     "name": "stdout",
     "output_type": "stream",
     "text": [
      "График отправленных смс в месяц на тарифе \"ультра\"\n",
      "Ось \"х\" - кол-во смс  в месяц\n",
      "Ось \"у\" - кол-во клиентов\n"
     ]
    },
    {
     "data": {
      "image/png": "[encoded data removed]",
      "text/plain": [
       "<Figure size 432x288 with 1 Axes>"
      ]
     },
     "metadata": {
      "needs_background": "light"
     },
     "output_type": "display_data"
    }
   ],
   "source": [
    "data_next_ultra['sms'].hist(bins=15)\n",
    "\n",
    "print('График отправленных смс в месяц на тарифе \"ультра\"')\n",
    "print('Ось \"х\" - кол-во смс  в месяц')\n",
    "print('Ось \"у\" - кол-во клиентов')"
   ]
  },
  {
   "cell_type": "code",
   "execution_count": 91,
   "id": "51d7f38b",
   "metadata": {},
   "outputs": [
    {
     "name": "stdout",
     "output_type": "stream",
     "text": [
      "График отправленных смс в месяц на тарифе \"смарт\"\n",
      "Ось \"х\" - кол-во смс  в месяц\n",
      "Ось \"у\" - кол-во клиентов\n"
     ]
    },
    {
     "data": {
      "image/png": "[encoded data removed]",
      "text/plain": [
       "<Figure size 432x288 with 1 Axes>"
      ]
     },
     "metadata": {
      "needs_background": "light"
     },
     "output_type": "display_data"
    }
   ],
   "source": [
    "data_next_smart['sms'].hist(bins=15)\n",
    "print('График отправленных смс в месяц на тарифе \"смарт\"')\n",
    "print('Ось \"х\" - кол-во смс  в месяц')\n",
    "print('Ось \"у\" - кол-во клиентов')"
   ]
  },
  {
   "cell_type": "markdown",
   "id": "199e87cb",
   "metadata": {},
   "source": [
    "#### Вывод"
   ]
  },
  {
   "cell_type": "markdown",
   "id": "f4db79c1",
   "metadata": {},
   "source": [
    "В обоих гарфиках датасет скошен вправо, смс сейчас не очень популярны, большинство пользуются мессенджерами. Так же отмечу что на тарифе смарт, более равномерная структура графика, больше кол-во клиентов."
   ]
  },
  {
   "cell_type": "markdown",
   "id": "1ce72863",
   "metadata": {},
   "source": [
    "### 3.3 Обьем трафика"
   ]
  },
  {
   "cell_type": "code",
   "execution_count": 92,
   "id": "623ca498",
   "metadata": {},
   "outputs": [
    {
     "name": "stdout",
     "output_type": "stream",
     "text": [
      "19468.80520812183\n"
     ]
    }
   ],
   "source": [
    "mb_ultra_mean = data_next_ultra['mb_used'].mean()\n",
    "print(mb_ultra_mean) #Среднее кол-во мегабайт, скачиваемых на тарифе ультра"
   ]
  },
  {
   "cell_type": "code",
   "execution_count": 93,
   "id": "d375236d",
   "metadata": {},
   "outputs": [
    {
     "name": "stdout",
     "output_type": "stream",
     "text": [
      "16208.386989681472\n"
     ]
    }
   ],
   "source": [
    "mb_smart_mean = data_next_smart['mb_used'].mean()\n",
    "print(mb_smart_mean) #Среднее кол-во мегабайс, скачиваемых на тарифе смарт"
   ]
  },
  {
   "cell_type": "code",
   "execution_count": 94,
   "id": "b851a22d",
   "metadata": {},
   "outputs": [
    {
     "name": "stdout",
     "output_type": "stream",
     "text": [
      "101647713.2617464\n"
     ]
    }
   ],
   "source": [
    "mb_var_ultra = np.var(data_next_ultra['mb_used'])\n",
    "print(mb_var_ultra) #Дисперсия траффика на тарифе ультра"
   ]
  },
  {
   "cell_type": "code",
   "execution_count": 95,
   "id": "5e7d770d",
   "metadata": {},
   "outputs": [
    {
     "name": "stdout",
     "output_type": "stream",
     "text": [
      "34447035.49528493\n"
     ]
    }
   ],
   "source": [
    "mb_var_smart = np.var(data_next_smart['mb_used'])\n",
    "print(mb_var_smart) #Дисперсия траффика на тарифе smart"
   ]
  },
  {
   "cell_type": "code",
   "execution_count": 96,
   "id": "adbdc83d",
   "metadata": {},
   "outputs": [
    {
     "name": "stdout",
     "output_type": "stream",
     "text": [
      "10082.049060669484\n"
     ]
    }
   ],
   "source": [
    "mb_std_ultra = np.std(data_next_ultra['mb_used'])\n",
    "print(mb_std_ultra) #Среднее отклонение траффика на тарифе ультра"
   ]
  },
  {
   "cell_type": "code",
   "execution_count": 97,
   "id": "e142103f",
   "metadata": {},
   "outputs": [
    {
     "name": "stdout",
     "output_type": "stream",
     "text": [
      "5869.159692433401\n"
     ]
    }
   ],
   "source": [
    "mb_std_smart = np.std(data_next_smart['mb_used'])\n",
    "print(mb_std_smart) #Среднее отклонение траффика на тарифе smart"
   ]
  },
  {
   "cell_type": "code",
   "execution_count": 98,
   "id": "d10d5126",
   "metadata": {},
   "outputs": [
    {
     "name": "stdout",
     "output_type": "stream",
     "text": [
      "График израсходованного трафика в месяц на тарифе \"ультра\"\n",
      "Ось \"х\" - кол-во мб трафика\n",
      "Ось \"у\" - кол-во клиентов\n"
     ]
    },
    {
     "data": {
      "image/png": "[encoded data removed]",
      "text/plain": [
       "<Figure size 432x288 with 1 Axes>"
      ]
     },
     "metadata": {
      "needs_background": "light"
     },
     "output_type": "display_data"
    }
   ],
   "source": [
    "data_next_ultra['mb_used'].hist(bins=70)\n",
    "print('График израсходованного трафика в месяц на тарифе \"ультра\"')\n",
    "print('Ось \"х\" - кол-во мб трафика')\n",
    "print('Ось \"у\" - кол-во клиентов')"
   ]
  },
  {
   "cell_type": "code",
   "execution_count": 99,
   "id": "959c364b",
   "metadata": {},
   "outputs": [
    {
     "name": "stdout",
     "output_type": "stream",
     "text": [
      "График израсходованного трафика в месяц на тарифе \"смарт\"\n",
      "Ось \"х\" - кол-во мб трафика\n",
      "Ось \"у\" - кол-во клиентов\n"
     ]
    },
    {
     "data": {
      "image/png": "[encoded data removed]",
      "text/plain": [
       "<Figure size 432x288 with 1 Axes>"
      ]
     },
     "metadata": {
      "needs_background": "light"
     },
     "output_type": "display_data"
    }
   ],
   "source": [
    "data_next_smart['mb_used'].hist(bins=70)\n",
    "print('График израсходованного трафика в месяц на тарифе \"смарт\"')\n",
    "print('Ось \"х\" - кол-во мб трафика')\n",
    "print('Ось \"у\" - кол-во клиентов')"
   ]
  },
  {
   "cell_type": "markdown",
   "id": "220e9f24",
   "metadata": {},
   "source": [
    "#### Вывод"
   ]
  },
  {
   "cell_type": "markdown",
   "id": "143093c1",
   "metadata": {},
   "source": [
    "Оба графика имеют нормальное распределение. Тариф смарт самое клаасическое, без больших выбросов, как в учебнике. Тариф Ультра менее расновмерный, вероятно это говорит о том, что некоторое количество пользователей тарифа(более обеспеченных людей) не так активно пользуются мобильным интеренетом."
   ]
  },
  {
   "cell_type": "markdown",
   "id": "a28c730e",
   "metadata": {},
   "source": [
    "## 4. Проверка гипотезы"
   ]
  },
  {
   "cell_type": "markdown",
   "id": "22596b87",
   "metadata": {},
   "source": [
    "### 4.1 средняя выручка пользователей из Москвы отличается от выручки пользователей из других регионов"
   ]
  },
  {
   "cell_type": "code",
   "execution_count": 100,
   "id": "13194146",
   "metadata": {},
   "outputs": [],
   "source": [
    "from scipy import stats as st\n",
    "\n",
    "\n",
    "data_next_mos = data_next4.query('city == \"Москва\"')\n",
    "data_money_mos = data_next_mos['money']\n",
    "\n",
    "data_next_nomos = data_next4.query('city != \"Москва\"')\n",
    "data_money_nomos = data_next_nomos['money']\n",
    "\n",
    "\n",
    "alpha = 0.05\n"
   ]
  },
  {
   "cell_type": "code",
   "execution_count": 101,
   "id": "2dbde00e",
   "metadata": {},
   "outputs": [
    {
     "name": "stdout",
     "output_type": "stream",
     "text": [
      "1439.71031096563\n",
      "1401.5409143296197\n"
     ]
    }
   ],
   "source": [
    "print(data_money_mos.mean())\n",
    "print(data_money_nomos.mean())"
   ]
  },
  {
   "cell_type": "code",
   "execution_count": 102,
   "id": "94176b1a",
   "metadata": {},
   "outputs": [
    {
     "name": "stdout",
     "output_type": "stream",
     "text": [
      "p-значение: 0.26413825499929405\n",
      "Не получилось отвергнуть нулевую гипотезу\n"
     ]
    }
   ],
   "source": [
    "results_mos = st.ttest_ind(data_money_mos, data_money_nomos)\n",
    "\n",
    "\n",
    "print('p-значение:', results_mos.pvalue)\n",
    "\n",
    "if results_mos.pvalue < alpha:\n",
    "    print(\"Отвергаем нулевую гипотезу\")\n",
    "else:\n",
    "    print(\"Не получилось отвергнуть нулевую гипотезу\")"
   ]
  },
  {
   "cell_type": "markdown",
   "id": "9a82085f",
   "metadata": {},
   "source": [
    "#### Вывод"
   ]
  },
  {
   "cell_type": "markdown",
   "id": "d44d21fc",
   "metadata": {},
   "source": [
    "По ощущениям затраты на связь в Москве слабо отличаются от других городов.\n",
    "Нулевая гипотеза - среднее двух совокупносей (затраты на связь в месяц в МСК и затраты на связь в месяц) равны.  Альтернативная гипотеза - затраты отличаются. Критический уровень статистической значимости обозначим как 0,05. Средняя выручка с пользователей в Москве и в остальных городах отличается не значительно."
   ]
  },
  {
   "cell_type": "markdown",
   "id": "024a2817",
   "metadata": {},
   "source": [
    "### 4.2 средняя выручка пользователей тарифов «Ультра» и «Смарт» различается"
   ]
  },
  {
   "cell_type": "code",
   "execution_count": 103,
   "id": "7e730d8f",
   "metadata": {},
   "outputs": [],
   "source": [
    "\n",
    "data_smart_money = data_next_smart['money']\n",
    "data_ultima_money = data_next_ultra['money']\n",
    "\n",
    "alpha = 0.05"
   ]
  },
  {
   "cell_type": "code",
   "execution_count": 104,
   "id": "a79fbd63",
   "metadata": {},
   "outputs": [
    {
     "name": "stdout",
     "output_type": "stream",
     "text": [
      "1123.0354419021983\n",
      "2055.4598984771574\n"
     ]
    }
   ],
   "source": [
    "print(data_smart_money.mean())\n",
    "print(data_ultima_money.mean())"
   ]
  },
  {
   "cell_type": "code",
   "execution_count": 105,
   "id": "9bb5fd87",
   "metadata": {},
   "outputs": [
    {
     "name": "stdout",
     "output_type": "stream",
     "text": [
      "p-значение: 4.064955712067962e-271\n",
      "Отвергаем нулевую гипотезу\n"
     ]
    }
   ],
   "source": [
    "results = st.ttest_ind(data_smart_money, data_ultima_money)\n",
    "\n",
    "\n",
    "print('p-значение:', results.pvalue)\n",
    "\n",
    "if results.pvalue < alpha:\n",
    "    print(\"Отвергаем нулевую гипотезу\")\n",
    "else:\n",
    "    print(\"Не получилось отвергнуть нулевую гипотезу\")"
   ]
  },
  {
   "cell_type": "markdown",
   "id": "23dbf39d",
   "metadata": {},
   "source": [
    "#### Вывод"
   ]
  },
  {
   "cell_type": "markdown",
   "id": "de3cbb6c",
   "metadata": {},
   "source": [
    "Тариф смарт более дешевый! Логично что затраты пользователей этого тарифа будут меньше, чем ультра.\n",
    "Нулевая гипотеза - среднее двух совокупносей (затраты на связь в месяц пользователей тарифа смарт и и тарифа ультра соответственно) равны . Альтернативная гипотеза - затраты не связь на тарифах отличается. Средняя выручка с пользователей на данных тарифах занчительно отлчиается."
   ]
  },
  {
   "cell_type": "markdown",
   "id": "3bd92a08",
   "metadata": {},
   "source": [
    "## 5. Общий вывод"
   ]
  },
  {
   "cell_type": "markdown",
   "id": "28139289",
   "metadata": {},
   "source": [
    "Структура потребления пользователей разных тарифово схожа! Однако на более дорогом тарифе, затрат и потребления соответственно больше. Все логично."
   ]
  }
 ],
 "metadata": {
  "ExecuteTimeLog": [
   {
    "duration": 750,
    "start_time": "2021-06-29T09:53:55.786Z"
   },
   {
    "duration": 201,
    "start_time": "2021-06-29T09:53:56.539Z"
   },
   {
    "duration": 174,
    "start_time": "2021-06-29T09:53:56.743Z"
   },
   {
    "duration": 112,
    "start_time": "2021-06-29T09:53:56.920Z"
   },
   {
    "duration": 18,
    "start_time": "2021-06-29T09:53:57.034Z"
   },
   {
    "duration": 42,
    "start_time": "2021-06-29T09:53:57.055Z"
   },
   {
    "duration": 34,
    "start_time": "2021-06-29T09:53:57.099Z"
   },
   {
    "duration": 17,
    "start_time": "2021-06-29T09:53:57.137Z"
   },
   {
    "duration": 21,
    "start_time": "2021-06-29T09:53:57.157Z"
   },
   {
    "duration": 22,
    "start_time": "2021-06-29T09:53:57.181Z"
   },
   {
    "duration": 31,
    "start_time": "2021-06-29T09:53:57.206Z"
   },
   {
    "duration": 33,
    "start_time": "2021-06-29T09:53:57.239Z"
   },
   {
    "duration": 22,
    "start_time": "2021-06-29T09:53:57.274Z"
   },
   {
    "duration": 23,
    "start_time": "2021-06-29T09:53:57.298Z"
   },
   {
    "duration": 7,
    "start_time": "2021-06-29T09:53:57.324Z"
   },
   {
    "duration": 9,
    "start_time": "2021-06-29T09:53:57.355Z"
   },
   {
    "duration": 45,
    "start_time": "2021-06-29T09:53:57.366Z"
   },
   {
    "duration": 57,
    "start_time": "2021-06-29T09:53:57.413Z"
   },
   {
    "duration": 27,
    "start_time": "2021-06-29T09:53:57.473Z"
   },
   {
    "duration": 9,
    "start_time": "2021-06-29T09:53:57.503Z"
   },
   {
    "duration": 151,
    "start_time": "2021-06-29T09:53:57.514Z"
   },
   {
    "duration": 18,
    "start_time": "2021-06-29T09:53:57.667Z"
   },
   {
    "duration": 24,
    "start_time": "2021-06-29T09:53:57.692Z"
   },
   {
    "duration": 121,
    "start_time": "2021-06-29T09:53:57.719Z"
   },
   {
    "duration": 23,
    "start_time": "2021-06-29T09:53:57.843Z"
   },
   {
    "duration": 35,
    "start_time": "2021-06-29T09:53:57.869Z"
   },
   {
    "duration": 73,
    "start_time": "2021-06-29T09:53:57.906Z"
   },
   {
    "duration": 14,
    "start_time": "2021-06-29T09:53:57.981Z"
   },
   {
    "duration": 15,
    "start_time": "2021-06-29T09:53:57.998Z"
   },
   {
    "duration": 27,
    "start_time": "2021-06-29T09:53:58.015Z"
   },
   {
    "duration": 43,
    "start_time": "2021-06-29T09:53:58.045Z"
   },
   {
    "duration": 10,
    "start_time": "2021-06-29T09:53:58.090Z"
   },
   {
    "duration": 52,
    "start_time": "2021-06-29T09:53:58.103Z"
   },
   {
    "duration": 21,
    "start_time": "2021-06-29T09:53:58.158Z"
   },
   {
    "duration": 9,
    "start_time": "2021-06-29T09:53:58.181Z"
   },
   {
    "duration": 32,
    "start_time": "2021-06-29T09:53:58.192Z"
   },
   {
    "duration": 52,
    "start_time": "2021-06-29T09:53:58.227Z"
   },
   {
    "duration": 12,
    "start_time": "2021-06-29T09:53:58.281Z"
   },
   {
    "duration": 19,
    "start_time": "2021-06-29T09:53:58.296Z"
   },
   {
    "duration": 62,
    "start_time": "2021-06-29T09:53:58.318Z"
   },
   {
    "duration": 33,
    "start_time": "2021-06-29T09:53:58.382Z"
   },
   {
    "duration": 45,
    "start_time": "2021-06-29T09:53:58.418Z"
   },
   {
    "duration": 15,
    "start_time": "2021-06-29T09:53:58.465Z"
   },
   {
    "duration": 20,
    "start_time": "2021-06-29T09:53:58.482Z"
   },
   {
    "duration": 14,
    "start_time": "2021-06-29T09:53:58.504Z"
   },
   {
    "duration": 44,
    "start_time": "2021-06-29T09:53:58.520Z"
   },
   {
    "duration": 12,
    "start_time": "2021-06-29T09:53:58.566Z"
   },
   {
    "duration": 10,
    "start_time": "2021-06-29T09:53:58.581Z"
   },
   {
    "duration": 16,
    "start_time": "2021-06-29T09:53:58.594Z"
   },
   {
    "duration": 44,
    "start_time": "2021-06-29T09:53:58.613Z"
   },
   {
    "duration": 7,
    "start_time": "2021-06-29T09:53:58.660Z"
   },
   {
    "duration": 18,
    "start_time": "2021-06-29T09:53:58.669Z"
   },
   {
    "duration": 24,
    "start_time": "2021-06-29T09:53:58.689Z"
   },
   {
    "duration": 6,
    "start_time": "2021-06-29T09:53:58.715Z"
   },
   {
    "duration": 535,
    "start_time": "2021-06-29T09:53:58.723Z"
   },
   {
    "duration": 18,
    "start_time": "2021-06-29T09:53:59.260Z"
   },
   {
    "duration": 35,
    "start_time": "2021-06-29T09:53:59.280Z"
   },
   {
    "duration": 27,
    "start_time": "2021-06-29T09:53:59.317Z"
   },
   {
    "duration": 542,
    "start_time": "2021-06-29T09:53:59.347Z"
   },
   {
    "duration": 20,
    "start_time": "2021-06-29T09:53:59.892Z"
   },
   {
    "duration": 11,
    "start_time": "2021-06-29T09:53:59.915Z"
   },
   {
    "duration": 30,
    "start_time": "2021-06-29T09:53:59.928Z"
   },
   {
    "duration": 21,
    "start_time": "2021-06-29T09:53:59.960Z"
   },
   {
    "duration": 5,
    "start_time": "2021-06-29T09:53:59.985Z"
   },
   {
    "duration": 7,
    "start_time": "2021-06-29T09:53:59.993Z"
   },
   {
    "duration": 525,
    "start_time": "2021-06-29T09:54:00.003Z"
   },
   {
    "duration": 29,
    "start_time": "2021-06-29T09:54:00.531Z"
   },
   {
    "duration": 23,
    "start_time": "2021-06-29T09:54:00.569Z"
   },
   {
    "duration": 21,
    "start_time": "2021-06-29T09:54:00.596Z"
   },
   {
    "duration": 26,
    "start_time": "2021-06-29T09:54:00.619Z"
   },
   {
    "duration": 60,
    "start_time": "2021-06-29T09:54:00.647Z"
   },
   {
    "duration": 23,
    "start_time": "2021-06-29T09:54:00.710Z"
   },
   {
    "duration": 18,
    "start_time": "2021-06-29T09:54:00.735Z"
   },
   {
    "duration": 629,
    "start_time": "2021-06-29T09:54:00.755Z"
   },
   {
    "duration": 474,
    "start_time": "2021-06-29T09:54:01.387Z"
   },
   {
    "duration": 4,
    "start_time": "2021-06-29T09:54:01.864Z"
   },
   {
    "duration": 26,
    "start_time": "2021-06-29T09:54:01.871Z"
   },
   {
    "duration": 11,
    "start_time": "2021-06-29T09:54:01.899Z"
   },
   {
    "duration": 14,
    "start_time": "2021-06-29T09:54:01.912Z"
   },
   {
    "duration": 10,
    "start_time": "2021-06-29T09:54:01.929Z"
   },
   {
    "duration": 15,
    "start_time": "2021-06-29T09:54:01.942Z"
   },
   {
    "duration": 471,
    "start_time": "2021-06-29T09:54:01.959Z"
   },
   {
    "duration": 487,
    "start_time": "2021-06-29T09:54:02.432Z"
   },
   {
    "duration": 5,
    "start_time": "2021-06-29T09:54:02.922Z"
   },
   {
    "duration": 27,
    "start_time": "2021-06-29T09:54:02.929Z"
   },
   {
    "duration": 8,
    "start_time": "2021-06-29T09:54:02.958Z"
   },
   {
    "duration": 22,
    "start_time": "2021-06-29T09:54:02.968Z"
   },
   {
    "duration": 15,
    "start_time": "2021-06-29T09:54:02.992Z"
   },
   {
    "duration": 15,
    "start_time": "2021-06-29T09:54:03.010Z"
   },
   {
    "duration": 463,
    "start_time": "2021-06-29T09:54:03.028Z"
   },
   {
    "duration": 473,
    "start_time": "2021-06-29T09:54:03.494Z"
   },
   {
    "duration": 504,
    "start_time": "2021-06-29T09:54:03.969Z"
   },
   {
    "duration": 4,
    "start_time": "2021-06-29T09:54:04.475Z"
   },
   {
    "duration": 9,
    "start_time": "2021-06-29T09:54:04.481Z"
   },
   {
    "duration": 5,
    "start_time": "2021-06-29T09:54:04.493Z"
   },
   {
    "duration": 11,
    "start_time": "2021-06-29T09:54:04.500Z"
   },
   {
    "duration": 41,
    "start_time": "2021-06-29T09:54:04.513Z"
   },
   {
    "duration": 27,
    "start_time": "2021-06-29T10:01:26.721Z"
   },
   {
    "duration": 22,
    "start_time": "2021-06-29T10:12:10.052Z"
   },
   {
    "duration": 29,
    "start_time": "2021-06-29T10:12:31.587Z"
   },
   {
    "duration": 5,
    "start_time": "2021-06-29T10:25:10.201Z"
   },
   {
    "duration": 41,
    "start_time": "2021-06-29T10:42:58.022Z"
   },
   {
    "duration": 102,
    "start_time": "2021-06-29T10:43:09.101Z"
   },
   {
    "duration": 8,
    "start_time": "2021-06-29T10:44:51.003Z"
   },
   {
    "duration": 17,
    "start_time": "2021-06-29T10:56:45.952Z"
   },
   {
    "duration": 19,
    "start_time": "2021-06-29T10:56:58.946Z"
   },
   {
    "duration": 747,
    "start_time": "2021-06-29T12:09:06.641Z"
   },
   {
    "duration": 208,
    "start_time": "2021-06-29T12:09:08.028Z"
   },
   {
    "duration": 170,
    "start_time": "2021-06-29T12:09:08.788Z"
   },
   {
    "duration": 145,
    "start_time": "2021-06-29T12:09:09.294Z"
   },
   {
    "duration": 19,
    "start_time": "2021-06-29T12:09:09.805Z"
   },
   {
    "duration": 38,
    "start_time": "2021-06-29T12:09:10.279Z"
   },
   {
    "duration": 22,
    "start_time": "2021-06-29T12:09:11.067Z"
   },
   {
    "duration": 14,
    "start_time": "2021-06-29T12:09:13.895Z"
   },
   {
    "duration": 12,
    "start_time": "2021-06-29T12:09:14.640Z"
   },
   {
    "duration": 11,
    "start_time": "2021-06-29T12:09:15.391Z"
   },
   {
    "duration": 17,
    "start_time": "2021-06-29T12:09:16.104Z"
   },
   {
    "duration": 26,
    "start_time": "2021-06-29T12:09:19.309Z"
   },
   {
    "duration": 23,
    "start_time": "2021-06-29T12:09:20.022Z"
   },
   {
    "duration": 18,
    "start_time": "2021-06-29T12:09:20.584Z"
   },
   {
    "duration": 9,
    "start_time": "2021-06-29T12:09:21.243Z"
   },
   {
    "duration": 10,
    "start_time": "2021-06-29T12:09:21.778Z"
   },
   {
    "duration": 44,
    "start_time": "2021-06-29T12:09:26.566Z"
   },
   {
    "duration": 30,
    "start_time": "2021-06-29T12:09:27.399Z"
   },
   {
    "duration": 29,
    "start_time": "2021-06-29T12:09:27.911Z"
   },
   {
    "duration": 10,
    "start_time": "2021-06-29T12:09:28.382Z"
   },
   {
    "duration": 121,
    "start_time": "2021-06-29T12:09:32.233Z"
   },
   {
    "duration": 18,
    "start_time": "2021-06-29T12:09:32.723Z"
   },
   {
    "duration": 25,
    "start_time": "2021-06-29T12:09:33.471Z"
   },
   {
    "duration": 92,
    "start_time": "2021-06-29T12:09:36.618Z"
   },
   {
    "duration": 15,
    "start_time": "2021-06-29T12:09:37.266Z"
   },
   {
    "duration": 24,
    "start_time": "2021-06-29T12:09:38.944Z"
   },
   {
    "duration": 55,
    "start_time": "2021-06-29T12:09:42.219Z"
   },
   {
    "duration": 14,
    "start_time": "2021-06-29T12:09:44.531Z"
   },
   {
    "duration": 10,
    "start_time": "2021-06-29T12:09:50.251Z"
   },
   {
    "duration": 9,
    "start_time": "2021-06-29T12:09:50.893Z"
   },
   {
    "duration": 32,
    "start_time": "2021-06-29T12:10:12.687Z"
   },
   {
    "duration": 11,
    "start_time": "2021-06-29T12:10:13.103Z"
   },
   {
    "duration": 31,
    "start_time": "2021-06-29T12:10:13.498Z"
   },
   {
    "duration": 21,
    "start_time": "2021-06-29T12:10:16.235Z"
   },
   {
    "duration": 10,
    "start_time": "2021-06-29T12:10:18.270Z"
   },
   {
    "duration": 24,
    "start_time": "2021-06-29T12:10:22.205Z"
   },
   {
    "duration": 29,
    "start_time": "2021-06-29T12:10:22.570Z"
   },
   {
    "duration": 12,
    "start_time": "2021-06-29T12:10:26.307Z"
   },
   {
    "duration": 13,
    "start_time": "2021-06-29T12:10:32.361Z"
   },
   {
    "duration": 61,
    "start_time": "2021-06-29T12:13:14.967Z"
   },
   {
    "duration": 494,
    "start_time": "2021-06-29T12:13:27.133Z"
   },
   {
    "duration": 80,
    "start_time": "2021-06-29T12:15:49.548Z"
   },
   {
    "duration": 89,
    "start_time": "2021-06-29T12:15:54.039Z"
   },
   {
    "duration": 463,
    "start_time": "2021-06-29T12:15:59.882Z"
   },
   {
    "duration": 466,
    "start_time": "2021-06-29T12:16:27.478Z"
   },
   {
    "duration": 579,
    "start_time": "2021-06-29T12:16:52.142Z"
   },
   {
    "duration": 455,
    "start_time": "2021-06-29T12:17:04.173Z"
   },
   {
    "duration": 441,
    "start_time": "2021-06-29T12:20:26.448Z"
   },
   {
    "duration": 383,
    "start_time": "2021-06-29T12:20:31.263Z"
   },
   {
    "duration": 388,
    "start_time": "2021-06-29T12:20:41.501Z"
   },
   {
    "duration": 461,
    "start_time": "2021-06-29T12:22:51.709Z"
   },
   {
    "duration": 95975,
    "start_time": "2021-06-29T12:28:17.205Z"
   },
   {
    "duration": 18,
    "start_time": "2021-06-29T12:30:15.577Z"
   },
   {
    "duration": 59,
    "start_time": "2021-06-29T12:30:52.207Z"
   },
   {
    "duration": 14,
    "start_time": "2021-06-29T12:30:53.210Z"
   },
   {
    "duration": 751,
    "start_time": "2021-06-29T12:31:17.783Z"
   },
   {
    "duration": 221,
    "start_time": "2021-06-29T12:31:18.536Z"
   },
   {
    "duration": 251,
    "start_time": "2021-06-29T12:31:18.760Z"
   },
   {
    "duration": 119,
    "start_time": "2021-06-29T12:31:19.015Z"
   },
   {
    "duration": 17,
    "start_time": "2021-06-29T12:31:19.137Z"
   },
   {
    "duration": 59,
    "start_time": "2021-06-29T12:31:19.157Z"
   },
   {
    "duration": 23,
    "start_time": "2021-06-29T12:31:19.256Z"
   },
   {
    "duration": 14,
    "start_time": "2021-06-29T12:31:19.466Z"
   },
   {
    "duration": 14,
    "start_time": "2021-06-29T12:31:19.675Z"
   },
   {
    "duration": 25,
    "start_time": "2021-06-29T12:31:19.836Z"
   },
   {
    "duration": 17,
    "start_time": "2021-06-29T12:31:20.073Z"
   },
   {
    "duration": 44,
    "start_time": "2021-06-29T12:31:20.229Z"
   },
   {
    "duration": 35,
    "start_time": "2021-06-29T12:31:20.448Z"
   },
   {
    "duration": 30,
    "start_time": "2021-06-29T12:31:20.643Z"
   },
   {
    "duration": 10,
    "start_time": "2021-06-29T12:31:20.793Z"
   },
   {
    "duration": 9,
    "start_time": "2021-06-29T12:31:21.046Z"
   },
   {
    "duration": 69,
    "start_time": "2021-06-29T12:31:22.223Z"
   },
   {
    "duration": 52,
    "start_time": "2021-06-29T12:31:22.446Z"
   },
   {
    "duration": 41,
    "start_time": "2021-06-29T12:31:22.634Z"
   },
   {
    "duration": 12,
    "start_time": "2021-06-29T12:31:22.840Z"
   },
   {
    "duration": 159,
    "start_time": "2021-06-29T12:31:23.449Z"
   },
   {
    "duration": 27,
    "start_time": "2021-06-29T12:31:23.669Z"
   },
   {
    "duration": 32,
    "start_time": "2021-06-29T12:31:23.902Z"
   },
   {
    "duration": 123,
    "start_time": "2021-06-29T12:31:24.250Z"
   },
   {
    "duration": 23,
    "start_time": "2021-06-29T12:31:24.476Z"
   },
   {
    "duration": 24,
    "start_time": "2021-06-29T12:31:24.696Z"
   },
   {
    "duration": 76,
    "start_time": "2021-06-29T12:31:25.286Z"
   },
   {
    "duration": 15,
    "start_time": "2021-06-29T12:31:25.505Z"
   },
   {
    "duration": 10,
    "start_time": "2021-06-29T12:31:25.742Z"
   },
   {
    "duration": 9,
    "start_time": "2021-06-29T12:31:25.972Z"
   },
   {
    "duration": 32,
    "start_time": "2021-06-29T12:31:26.966Z"
   },
   {
    "duration": 11,
    "start_time": "2021-06-29T12:31:27.176Z"
   },
   {
    "duration": 43,
    "start_time": "2021-06-29T12:31:27.392Z"
   },
   {
    "duration": 25,
    "start_time": "2021-06-29T12:31:27.784Z"
   },
   {
    "duration": 14,
    "start_time": "2021-06-29T12:31:27.984Z"
   },
   {
    "duration": 31,
    "start_time": "2021-06-29T12:31:28.395Z"
   },
   {
    "duration": 40,
    "start_time": "2021-06-29T12:31:28.598Z"
   },
   {
    "duration": 17,
    "start_time": "2021-06-29T12:31:32.643Z"
   },
   {
    "duration": 13,
    "start_time": "2021-06-29T12:31:35.702Z"
   },
   {
    "duration": 68,
    "start_time": "2021-06-29T12:31:38.608Z"
   },
   {
    "duration": 14,
    "start_time": "2021-06-29T12:31:41.534Z"
   },
   {
    "duration": 74,
    "start_time": "2021-06-29T12:35:13.403Z"
   },
   {
    "duration": 13,
    "start_time": "2021-06-29T12:35:15.244Z"
   },
   {
    "duration": 350,
    "start_time": "2021-06-29T12:36:57.412Z"
   },
   {
    "duration": 76,
    "start_time": "2021-06-29T12:37:23.494Z"
   },
   {
    "duration": 14,
    "start_time": "2021-06-29T12:37:25.203Z"
   },
   {
    "duration": 80,
    "start_time": "2021-06-29T12:38:57.620Z"
   },
   {
    "duration": 13,
    "start_time": "2021-06-29T12:41:26.592Z"
   },
   {
    "duration": 255,
    "start_time": "2021-06-29T12:41:29.485Z"
   },
   {
    "duration": 364,
    "start_time": "2021-06-29T12:42:15.779Z"
   },
   {
    "duration": 251,
    "start_time": "2021-06-29T12:42:27.352Z"
   },
   {
    "duration": 477,
    "start_time": "2021-06-29T12:43:11.356Z"
   },
   {
    "duration": 136,
    "start_time": "2021-06-29T12:43:53.273Z"
   },
   {
    "duration": 19,
    "start_time": "2021-06-29T12:43:55.175Z"
   },
   {
    "duration": 88,
    "start_time": "2021-06-29T12:51:05.744Z"
   },
   {
    "duration": 13,
    "start_time": "2021-06-29T12:51:08.374Z"
   },
   {
    "duration": 13,
    "start_time": "2021-06-29T12:54:53.593Z"
   },
   {
    "duration": 36,
    "start_time": "2021-06-29T12:54:54.509Z"
   },
   {
    "duration": 34,
    "start_time": "2021-06-29T12:54:57.326Z"
   },
   {
    "duration": 32,
    "start_time": "2021-06-29T12:55:32.069Z"
   },
   {
    "duration": 31,
    "start_time": "2021-06-29T12:55:38.172Z"
   },
   {
    "duration": 10,
    "start_time": "2021-06-29T12:56:54.020Z"
   },
   {
    "duration": 12,
    "start_time": "2021-06-29T12:57:59.523Z"
   },
   {
    "duration": 15,
    "start_time": "2021-06-29T12:58:01.677Z"
   },
   {
    "duration": 366,
    "start_time": "2021-06-29T12:58:13.240Z"
   },
   {
    "duration": 8,
    "start_time": "2021-06-29T12:58:18.529Z"
   },
   {
    "duration": 13,
    "start_time": "2021-06-29T12:58:54.765Z"
   },
   {
    "duration": 15,
    "start_time": "2021-06-29T13:00:12.877Z"
   },
   {
    "duration": 9,
    "start_time": "2021-06-29T13:00:23.820Z"
   },
   {
    "duration": 14,
    "start_time": "2021-06-29T13:00:37.431Z"
   },
   {
    "duration": 8,
    "start_time": "2021-06-29T13:00:38.466Z"
   },
   {
    "duration": 15,
    "start_time": "2021-06-29T13:00:49.965Z"
   },
   {
    "duration": 9,
    "start_time": "2021-06-29T13:00:51.501Z"
   },
   {
    "duration": 269,
    "start_time": "2021-06-29T13:02:13.164Z"
   },
   {
    "duration": 16,
    "start_time": "2021-06-29T13:03:39.957Z"
   },
   {
    "duration": 10,
    "start_time": "2021-06-29T13:03:41.906Z"
   },
   {
    "duration": 18,
    "start_time": "2021-06-29T13:03:58.710Z"
   },
   {
    "duration": 20,
    "start_time": "2021-06-29T13:04:58.536Z"
   },
   {
    "duration": 19,
    "start_time": "2021-06-29T13:05:03.248Z"
   },
   {
    "duration": 12,
    "start_time": "2021-06-29T13:05:04.606Z"
   },
   {
    "duration": 11,
    "start_time": "2021-06-29T13:05:13.105Z"
   },
   {
    "duration": 20,
    "start_time": "2021-06-29T13:05:17.400Z"
   },
   {
    "duration": 18,
    "start_time": "2021-06-29T13:05:20.095Z"
   },
   {
    "duration": 4,
    "start_time": "2021-06-29T13:05:22.134Z"
   },
   {
    "duration": 7,
    "start_time": "2021-06-29T13:05:24.866Z"
   },
   {
    "duration": 19,
    "start_time": "2021-06-29T13:05:25.462Z"
   },
   {
    "duration": 6,
    "start_time": "2021-06-29T13:05:28.063Z"
   },
   {
    "duration": 571,
    "start_time": "2021-06-29T13:05:28.663Z"
   },
   {
    "duration": -122,
    "start_time": "2021-06-29T13:05:29.358Z"
   },
   {
    "duration": 9,
    "start_time": "2021-06-29T13:07:50.034Z"
   },
   {
    "duration": 7,
    "start_time": "2021-06-29T13:09:58.215Z"
   },
   {
    "duration": 13,
    "start_time": "2021-06-29T13:10:00.874Z"
   },
   {
    "duration": 4,
    "start_time": "2021-06-29T13:10:02.275Z"
   },
   {
    "duration": 6,
    "start_time": "2021-06-29T13:10:05.112Z"
   },
   {
    "duration": 30,
    "start_time": "2021-06-29T13:10:05.762Z"
   },
   {
    "duration": 6,
    "start_time": "2021-06-29T13:10:08.277Z"
   },
   {
    "duration": 604,
    "start_time": "2021-06-29T13:10:09.985Z"
   },
   {
    "duration": 21,
    "start_time": "2021-06-29T13:10:12.975Z"
   },
   {
    "duration": 9,
    "start_time": "2021-06-29T13:10:16.665Z"
   },
   {
    "duration": 5,
    "start_time": "2021-06-29T13:10:19.626Z"
   },
   {
    "duration": 588,
    "start_time": "2021-06-29T13:10:21.654Z"
   },
   {
    "duration": 21,
    "start_time": "2021-06-29T13:10:23.838Z"
   },
   {
    "duration": 8,
    "start_time": "2021-06-29T13:11:12.495Z"
   },
   {
    "duration": 103,
    "start_time": "2021-06-29T13:12:45.215Z"
   },
   {
    "duration": 6,
    "start_time": "2021-06-29T13:13:05.482Z"
   },
   {
    "duration": 23,
    "start_time": "2021-06-29T13:13:08.601Z"
   },
   {
    "duration": 9,
    "start_time": "2021-06-29T13:13:14.031Z"
   },
   {
    "duration": 6,
    "start_time": "2021-06-29T13:13:54.752Z"
   },
   {
    "duration": 7,
    "start_time": "2021-06-29T13:25:30.407Z"
   },
   {
    "duration": 5,
    "start_time": "2021-06-29T13:25:32.687Z"
   },
   {
    "duration": 558,
    "start_time": "2021-06-29T13:25:39.743Z"
   },
   {
    "duration": 23,
    "start_time": "2021-06-29T13:25:42.661Z"
   },
   {
    "duration": 5,
    "start_time": "2021-06-29T13:27:48.831Z"
   },
   {
    "duration": 1005,
    "start_time": "2021-06-29T13:27:52.690Z"
   },
   {
    "duration": -194,
    "start_time": "2021-06-29T13:27:53.891Z"
   },
   {
    "duration": 6,
    "start_time": "2021-06-29T13:30:37.569Z"
   },
   {
    "duration": 613,
    "start_time": "2021-06-29T13:30:40.562Z"
   },
   {
    "duration": 23,
    "start_time": "2021-06-29T13:30:44.052Z"
   },
   {
    "duration": 24,
    "start_time": "2021-06-29T13:33:13.721Z"
   },
   {
    "duration": 11,
    "start_time": "2021-06-29T13:33:16.344Z"
   },
   {
    "duration": 12,
    "start_time": "2021-06-29T13:33:16.805Z"
   },
   {
    "duration": 5,
    "start_time": "2021-06-29T13:33:18.017Z"
   },
   {
    "duration": 5,
    "start_time": "2021-06-29T13:33:21.572Z"
   },
   {
    "duration": 5,
    "start_time": "2021-06-29T13:33:22.094Z"
   },
   {
    "duration": 5,
    "start_time": "2021-06-29T13:33:22.743Z"
   },
   {
    "duration": 595,
    "start_time": "2021-06-29T13:33:26.570Z"
   },
   {
    "duration": 422,
    "start_time": "2021-06-29T13:33:36.873Z"
   },
   {
    "duration": 322,
    "start_time": "2021-06-29T13:33:42.088Z"
   },
   {
    "duration": 324,
    "start_time": "2021-06-29T13:33:48.353Z"
   },
   {
    "duration": 320,
    "start_time": "2021-06-29T13:33:56.727Z"
   },
   {
    "duration": 467,
    "start_time": "2021-06-29T13:34:02.389Z"
   },
   {
    "duration": 332,
    "start_time": "2021-06-29T13:34:12.584Z"
   },
   {
    "duration": 335,
    "start_time": "2021-06-29T13:34:18.662Z"
   },
   {
    "duration": 346,
    "start_time": "2021-06-29T13:34:23.756Z"
   },
   {
    "duration": 408,
    "start_time": "2021-06-29T13:34:31.840Z"
   },
   {
    "duration": 320,
    "start_time": "2021-06-29T13:34:36.563Z"
   },
   {
    "duration": 86,
    "start_time": "2021-06-29T13:39:59.498Z"
   },
   {
    "duration": 406,
    "start_time": "2021-06-29T13:40:11.405Z"
   },
   {
    "duration": 526,
    "start_time": "2021-06-29T13:40:49.386Z"
   },
   {
    "duration": 5,
    "start_time": "2021-06-29T13:40:56.258Z"
   },
   {
    "duration": 4,
    "start_time": "2021-06-29T13:40:57.719Z"
   },
   {
    "duration": 5,
    "start_time": "2021-06-29T13:41:02.277Z"
   },
   {
    "duration": 5,
    "start_time": "2021-06-29T13:41:03.978Z"
   },
   {
    "duration": 6,
    "start_time": "2021-06-29T13:41:04.802Z"
   },
   {
    "duration": 5,
    "start_time": "2021-06-29T13:41:07.027Z"
   },
   {
    "duration": 637,
    "start_time": "2021-06-29T13:41:52.744Z"
   },
   {
    "duration": 398,
    "start_time": "2021-06-29T13:42:05.988Z"
   },
   {
    "duration": 547,
    "start_time": "2021-06-29T13:42:15.162Z"
   },
   {
    "duration": 471,
    "start_time": "2021-06-29T13:42:22.257Z"
   },
   {
    "duration": 315,
    "start_time": "2021-06-29T13:43:26.675Z"
   },
   {
    "duration": 342,
    "start_time": "2021-06-29T13:43:31.249Z"
   },
   {
    "duration": 393,
    "start_time": "2021-06-29T13:43:38.093Z"
   },
   {
    "duration": 5,
    "start_time": "2021-06-29T13:45:30.535Z"
   },
   {
    "duration": 5,
    "start_time": "2021-06-29T13:45:31.329Z"
   },
   {
    "duration": 5,
    "start_time": "2021-06-29T13:45:32.378Z"
   },
   {
    "duration": 5,
    "start_time": "2021-06-29T13:45:36.624Z"
   },
   {
    "duration": 6,
    "start_time": "2021-06-29T13:45:37.411Z"
   },
   {
    "duration": 6,
    "start_time": "2021-06-29T13:45:39.718Z"
   },
   {
    "duration": 470,
    "start_time": "2021-06-29T13:46:07.126Z"
   },
   {
    "duration": 330,
    "start_time": "2021-06-29T13:47:53.640Z"
   },
   {
    "duration": 351,
    "start_time": "2021-06-29T13:48:20.003Z"
   },
   {
    "duration": 305,
    "start_time": "2021-06-29T13:48:39.327Z"
   },
   {
    "duration": 314,
    "start_time": "2021-06-29T13:48:55.820Z"
   },
   {
    "duration": 5,
    "start_time": "2021-06-29T13:49:03.014Z"
   },
   {
    "duration": 5,
    "start_time": "2021-06-29T13:49:03.735Z"
   },
   {
    "duration": 5,
    "start_time": "2021-06-29T13:49:06.306Z"
   },
   {
    "duration": 5,
    "start_time": "2021-06-29T13:49:06.523Z"
   },
   {
    "duration": 7,
    "start_time": "2021-06-29T13:49:06.762Z"
   },
   {
    "duration": 4,
    "start_time": "2021-06-29T13:49:06.940Z"
   },
   {
    "duration": 485,
    "start_time": "2021-06-29T13:49:07.195Z"
   },
   {
    "duration": 463,
    "start_time": "2021-06-29T13:50:26.223Z"
   },
   {
    "duration": 681,
    "start_time": "2021-06-29T13:50:48.493Z"
   },
   {
    "duration": 5,
    "start_time": "2021-06-29T13:50:49.176Z"
   },
   {
    "duration": 7,
    "start_time": "2021-06-29T13:50:50.073Z"
   },
   {
    "duration": 121,
    "start_time": "2021-06-29T14:14:34.850Z"
   },
   {
    "duration": 7,
    "start_time": "2021-06-29T14:14:47.363Z"
   },
   {
    "duration": 4,
    "start_time": "2021-06-29T14:14:55.639Z"
   },
   {
    "duration": 5,
    "start_time": "2021-06-29T14:14:59.127Z"
   },
   {
    "duration": 8,
    "start_time": "2021-06-29T14:15:03.658Z"
   },
   {
    "duration": 865,
    "start_time": "2021-06-29T19:12:47.719Z"
   },
   {
    "duration": 202,
    "start_time": "2021-06-29T19:12:48.587Z"
   },
   {
    "duration": 165,
    "start_time": "2021-06-29T19:12:48.792Z"
   },
   {
    "duration": 112,
    "start_time": "2021-06-29T19:12:48.960Z"
   },
   {
    "duration": 18,
    "start_time": "2021-06-29T19:12:49.074Z"
   },
   {
    "duration": 62,
    "start_time": "2021-06-29T19:12:49.094Z"
   },
   {
    "duration": 32,
    "start_time": "2021-06-29T19:12:49.159Z"
   },
   {
    "duration": 13,
    "start_time": "2021-06-29T19:12:49.194Z"
   },
   {
    "duration": 15,
    "start_time": "2021-06-29T19:12:49.211Z"
   },
   {
    "duration": 35,
    "start_time": "2021-06-29T19:12:49.228Z"
   },
   {
    "duration": 20,
    "start_time": "2021-06-29T19:12:49.265Z"
   },
   {
    "duration": 30,
    "start_time": "2021-06-29T19:12:49.287Z"
   },
   {
    "duration": 50,
    "start_time": "2021-06-29T19:12:49.320Z"
   },
   {
    "duration": 18,
    "start_time": "2021-06-29T19:12:49.373Z"
   },
   {
    "duration": 12,
    "start_time": "2021-06-29T19:12:49.394Z"
   },
   {
    "duration": 47,
    "start_time": "2021-06-29T19:12:49.409Z"
   },
   {
    "duration": 45,
    "start_time": "2021-06-29T19:12:49.459Z"
   },
   {
    "duration": 54,
    "start_time": "2021-06-29T19:12:49.506Z"
   },
   {
    "duration": 26,
    "start_time": "2021-06-29T19:12:49.562Z"
   },
   {
    "duration": 9,
    "start_time": "2021-06-29T19:12:49.591Z"
   },
   {
    "duration": 153,
    "start_time": "2021-06-29T19:12:49.602Z"
   },
   {
    "duration": 17,
    "start_time": "2021-06-29T19:12:49.758Z"
   },
   {
    "duration": 24,
    "start_time": "2021-06-29T19:12:49.781Z"
   },
   {
    "duration": 118,
    "start_time": "2021-06-29T19:12:49.808Z"
   },
   {
    "duration": 28,
    "start_time": "2021-06-29T19:12:49.928Z"
   },
   {
    "duration": 24,
    "start_time": "2021-06-29T19:12:49.959Z"
   },
   {
    "duration": 87,
    "start_time": "2021-06-29T19:12:49.986Z"
   },
   {
    "duration": 16,
    "start_time": "2021-06-29T19:12:50.076Z"
   },
   {
    "duration": 10,
    "start_time": "2021-06-29T19:12:50.094Z"
   },
   {
    "duration": 14,
    "start_time": "2021-06-29T19:12:50.107Z"
   },
   {
    "duration": 60,
    "start_time": "2021-06-29T19:12:50.124Z"
   },
   {
    "duration": 11,
    "start_time": "2021-06-29T19:12:50.186Z"
   },
   {
    "duration": 56,
    "start_time": "2021-06-29T19:12:50.199Z"
   },
   {
    "duration": 20,
    "start_time": "2021-06-29T19:12:50.257Z"
   },
   {
    "duration": 10,
    "start_time": "2021-06-29T19:12:50.280Z"
   },
   {
    "duration": 24,
    "start_time": "2021-06-29T19:12:50.292Z"
   },
   {
    "duration": 60,
    "start_time": "2021-06-29T19:12:50.318Z"
   },
   {
    "duration": 14,
    "start_time": "2021-06-29T19:12:50.381Z"
   },
   {
    "duration": 16,
    "start_time": "2021-06-29T19:12:50.397Z"
   },
   {
    "duration": 120,
    "start_time": "2021-06-29T19:12:50.416Z"
   },
   {
    "duration": 23,
    "start_time": "2021-06-29T19:12:50.538Z"
   },
   {
    "duration": 37,
    "start_time": "2021-06-29T19:12:50.563Z"
   },
   {
    "duration": 63,
    "start_time": "2021-06-29T19:12:50.603Z"
   },
   {
    "duration": 31,
    "start_time": "2021-06-29T19:12:50.669Z"
   },
   {
    "duration": 11,
    "start_time": "2021-06-29T19:12:50.702Z"
   },
   {
    "duration": 50,
    "start_time": "2021-06-29T19:12:50.716Z"
   },
   {
    "duration": 8,
    "start_time": "2021-06-29T19:12:50.769Z"
   },
   {
    "duration": 19,
    "start_time": "2021-06-29T19:12:50.780Z"
   },
   {
    "duration": 23,
    "start_time": "2021-06-29T19:12:50.802Z"
   },
   {
    "duration": 23,
    "start_time": "2021-06-29T19:12:50.828Z"
   },
   {
    "duration": 24,
    "start_time": "2021-06-29T19:12:50.853Z"
   },
   {
    "duration": 14,
    "start_time": "2021-06-29T19:12:50.880Z"
   },
   {
    "duration": 29,
    "start_time": "2021-06-29T19:12:50.896Z"
   },
   {
    "duration": 28,
    "start_time": "2021-06-29T19:12:50.927Z"
   },
   {
    "duration": 31,
    "start_time": "2021-06-29T19:12:50.958Z"
   },
   {
    "duration": 32,
    "start_time": "2021-06-29T19:12:50.992Z"
   },
   {
    "duration": 30,
    "start_time": "2021-06-29T19:12:51.027Z"
   },
   {
    "duration": 18,
    "start_time": "2021-06-29T19:12:51.059Z"
   },
   {
    "duration": 22,
    "start_time": "2021-06-29T19:12:51.080Z"
   },
   {
    "duration": 20,
    "start_time": "2021-06-29T19:12:51.105Z"
   },
   {
    "duration": 15,
    "start_time": "2021-06-29T19:12:51.127Z"
   },
   {
    "duration": 35,
    "start_time": "2021-06-29T19:12:51.145Z"
   },
   {
    "duration": 23,
    "start_time": "2021-06-29T19:12:51.182Z"
   },
   {
    "duration": 621,
    "start_time": "2021-06-29T19:12:51.207Z"
   },
   {
    "duration": 33,
    "start_time": "2021-06-29T19:12:51.830Z"
   },
   {
    "duration": 9,
    "start_time": "2021-06-29T19:12:51.865Z"
   },
   {
    "duration": 6,
    "start_time": "2021-06-29T19:12:51.876Z"
   },
   {
    "duration": 629,
    "start_time": "2021-06-29T19:12:51.891Z"
   },
   {
    "duration": 32,
    "start_time": "2021-06-29T19:12:52.524Z"
   },
   {
    "duration": 9,
    "start_time": "2021-06-29T19:12:52.558Z"
   },
   {
    "duration": 33,
    "start_time": "2021-06-29T19:12:52.569Z"
   },
   {
    "duration": 6,
    "start_time": "2021-06-29T19:12:52.604Z"
   },
   {
    "duration": 15,
    "start_time": "2021-06-29T19:12:52.613Z"
   },
   {
    "duration": 647,
    "start_time": "2021-06-29T19:12:52.630Z"
   },
   {
    "duration": 22,
    "start_time": "2021-06-29T19:12:53.279Z"
   },
   {
    "duration": 30,
    "start_time": "2021-06-29T19:12:53.304Z"
   },
   {
    "duration": 34,
    "start_time": "2021-06-29T19:12:53.336Z"
   },
   {
    "duration": 20,
    "start_time": "2021-06-29T19:12:53.373Z"
   },
   {
    "duration": 19,
    "start_time": "2021-06-29T19:12:53.396Z"
   },
   {
    "duration": 20,
    "start_time": "2021-06-29T19:12:53.418Z"
   },
   {
    "duration": 21,
    "start_time": "2021-06-29T19:12:53.440Z"
   },
   {
    "duration": 439,
    "start_time": "2021-06-29T19:12:53.464Z"
   },
   {
    "duration": 569,
    "start_time": "2021-06-29T19:12:53.905Z"
   },
   {
    "duration": 5,
    "start_time": "2021-06-29T19:12:54.476Z"
   },
   {
    "duration": 27,
    "start_time": "2021-06-29T19:12:54.483Z"
   },
   {
    "duration": 22,
    "start_time": "2021-06-29T19:12:54.513Z"
   },
   {
    "duration": 29,
    "start_time": "2021-06-29T19:12:54.538Z"
   },
   {
    "duration": 26,
    "start_time": "2021-06-29T19:12:54.569Z"
   },
   {
    "duration": 20,
    "start_time": "2021-06-29T19:12:54.598Z"
   },
   {
    "duration": 314,
    "start_time": "2021-06-29T19:12:54.620Z"
   },
   {
    "duration": 324,
    "start_time": "2021-06-29T19:12:54.937Z"
   },
   {
    "duration": 4,
    "start_time": "2021-06-29T19:12:55.264Z"
   },
   {
    "duration": 26,
    "start_time": "2021-06-29T19:12:55.271Z"
   },
   {
    "duration": 20,
    "start_time": "2021-06-29T19:12:55.300Z"
   },
   {
    "duration": 20,
    "start_time": "2021-06-29T19:12:55.322Z"
   },
   {
    "duration": 21,
    "start_time": "2021-06-29T19:12:55.344Z"
   },
   {
    "duration": 24,
    "start_time": "2021-06-29T19:12:55.367Z"
   },
   {
    "duration": 481,
    "start_time": "2021-06-29T19:12:55.393Z"
   },
   {
    "duration": 488,
    "start_time": "2021-06-29T19:12:55.876Z"
   },
   {
    "duration": 538,
    "start_time": "2021-06-29T19:12:56.367Z"
   },
   {
    "duration": 6,
    "start_time": "2021-06-29T19:12:56.907Z"
   },
   {
    "duration": 8,
    "start_time": "2021-06-29T19:12:56.915Z"
   },
   {
    "duration": 29,
    "start_time": "2021-06-29T19:12:56.925Z"
   },
   {
    "duration": 10,
    "start_time": "2021-06-29T19:12:56.957Z"
   },
   {
    "duration": 8,
    "start_time": "2021-06-29T19:12:56.970Z"
   },
   {
    "duration": 6,
    "start_time": "2021-06-29T19:15:11.876Z"
   },
   {
    "duration": 382,
    "start_time": "2021-06-29T19:18:58.125Z"
   },
   {
    "duration": 12,
    "start_time": "2021-06-29T19:19:01.637Z"
   },
   {
    "duration": 9,
    "start_time": "2021-06-29T19:21:42.090Z"
   },
   {
    "duration": 332,
    "start_time": "2021-06-29T19:25:07.727Z"
   },
   {
    "duration": 318,
    "start_time": "2021-06-29T19:25:16.712Z"
   },
   {
    "duration": 322,
    "start_time": "2021-06-29T19:26:30.008Z"
   },
   {
    "duration": 578,
    "start_time": "2021-06-29T19:26:46.017Z"
   }
  ],
  "kernelspec": {
   "display_name": "Python 3",
   "language": "python",
   "name": "python3"
  },
  "language_info": {
   "codemirror_mode": {
    "name": "ipython",
    "version": 3
   },
   "file_extension": ".py",
   "mimetype": "text/x-python",
   "name": "python",
   "nbconvert_exporter": "python",
   "pygments_lexer": "ipython3",
   "version": "3.7.10"
  },
  "toc": {
   "base_numbering": 1,
   "nav_menu": {},
   "number_sections": true,
   "sideBar": true,
   "skip_h1_title": true,
   "title_cell": "Table of Contents",
   "title_sidebar": "Contents",
   "toc_cell": false,
   "toc_position": {},
   "toc_section_display": true,
   "toc_window_display": false
  }
 },
 "nbformat": 4,
 "nbformat_minor": 5
}
